{
 "cells": [
  {
   "cell_type": "markdown",
   "id": "788f13b7-2567-4e99-9caa-4d92342c694b",
   "metadata": {},
   "source": [
    "# Business Understanding"
   ]
  },
  {
   "cell_type": "markdown",
   "id": "9f22fd97-3606-4abf-8a3c-9b9f2749daa1",
   "metadata": {},
   "source": []
  },
  {
   "cell_type": "markdown",
   "id": "9792175e-d5f4-495f-816d-8092662f8f9c",
   "metadata": {},
   "source": [
    "# Data Understanding"
   ]
  },
  {
   "cell_type": "markdown",
   "id": "d8c7276e-e004-4e21-a8be-fa8d36e1a443",
   "metadata": {},
   "source": []
  },
  {
   "cell_type": "markdown",
   "id": "0c655f78-4437-46a4-a06d-1f04d8762fd3",
   "metadata": {},
   "source": [
    "## Data Preparation"
   ]
  },
  {
   "cell_type": "markdown",
   "id": "bfda4268-1bdf-46fc-9c06-2c1ae70712f7",
   "metadata": {},
   "source": []
  },
  {
   "cell_type": "markdown",
   "id": "1bb07613-bccb-47ea-89ed-b2be72ffff20",
   "metadata": {},
   "source": [
    "# Exploratory Data Analysis"
   ]
  },
  {
   "cell_type": "markdown",
   "id": "62cfd410-27fc-4976-80ac-66f581a4c422",
   "metadata": {},
   "source": []
  },
  {
   "cell_type": "markdown",
   "id": "8226550e-5468-4061-b8bc-96fb2d5ab00e",
   "metadata": {},
   "source": [
    "# Conclusions"
   ]
  },
  {
   "cell_type": "markdown",
   "id": "e98f1386-35be-474c-b870-473db31eb27f",
   "metadata": {},
   "source": []
  },
  {
   "cell_type": "markdown",
   "id": "02d6cf9d-1e5e-46c1-9b71-aeaf42136420",
   "metadata": {},
   "source": [
    "## Limitations"
   ]
  },
  {
   "cell_type": "markdown",
   "id": "41abbad3-0b8a-4abc-9f65-9fe7653ab79d",
   "metadata": {},
   "source": []
  },
  {
   "cell_type": "markdown",
   "id": "e53aa9cb-61e1-4508-ad34-c1b8a49539d5",
   "metadata": {},
   "source": [
    "## Recommendations"
   ]
  },
  {
   "cell_type": "markdown",
   "id": "3fd470d1-5967-46e0-b556-990d8e88e3dd",
   "metadata": {},
   "source": []
  },
  {
   "cell_type": "markdown",
   "id": "8c048448-1e6d-49e5-8c52-b32883100d0c",
   "metadata": {},
   "source": [
    "## Next Steps"
   ]
  },
  {
   "cell_type": "markdown",
   "id": "177f9903-cd61-488b-bb5f-22d8a39411c6",
   "metadata": {},
   "source": []
  }
 ],
 "metadata": {
  "kernelspec": {
   "display_name": "Python 3 (ipykernel)",
   "language": "python",
   "name": "python3"
  },
  "language_info": {
   "codemirror_mode": {
    "name": "ipython",
    "version": 3
   },
   "file_extension": ".py",
   "mimetype": "text/x-python",
   "name": "python",
   "nbconvert_exporter": "python",
   "pygments_lexer": "ipython3",
   "version": "3.11.5"
  }
 },
 "nbformat": 4,
 "nbformat_minor": 5
}
