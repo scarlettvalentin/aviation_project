{
 "cells": [
  {
   "cell_type": "markdown",
   "id": "4d34515a-d6cb-493c-a7f8-bf0178d8fb4a",
   "metadata": {},
   "source": [
    "# Aviation Industry Expansion"
   ]
  },
  {
   "cell_type": "markdown",
   "id": "13083f90-32ce-49d0-91d8-739bc5c22428",
   "metadata": {},
   "source": [
    "<center><img src=\"https://miro.medium.com/v2/resize:fit:1400/format:webp/1*4_HaFNNr4Zw-7xuH7kK-8Q.png\"></center>"
   ]
  },
  {
   "cell_type": "markdown",
   "id": "788f13b7-2567-4e99-9caa-4d92342c694b",
   "metadata": {},
   "source": [
    "# Business Understanding"
   ]
  },
  {
   "cell_type": "markdown",
   "id": "9f22fd97-3606-4abf-8a3c-9b9f2749daa1",
   "metadata": {},
   "source": [
    "Our company is *expanding* by **purchasing and operating airplanes** for commercial and private enterprises. In this analysis, I determine which aircraft is the **lowest risk** for the company to start this new business endeavor. I use the fatal injuries rate, uninjured rate, and total number of injuries as meaures of safety and investigate the effect the make of the aircraft, the number of engines, and the model have on these safety parameters.\n",
    "\n",
    "I investigate the following three business questions:\n",
    "1. What is the safest aircraft **make**?\n",
    "2. What is the safest **number of engines** for an aircraft?\n",
    "3. What is the safest aircraft **model**?"
   ]
  },
  {
   "cell_type": "markdown",
   "id": "9792175e-d5f4-495f-816d-8092662f8f9c",
   "metadata": {},
   "source": [
    "# Data Understanding"
   ]
  },
  {
   "cell_type": "markdown",
   "id": "ae15b092-cf6e-4f31-87df-584cc6fa2562",
   "metadata": {},
   "source": [
    "<center><img src=\"https://www.datasciencecentral.com/wp-content/uploads/2023/10/AdobeStock_623805808.jpeg\" style=\"height:400px\" /></center>"
   ]
  },
  {
   "cell_type": "markdown",
   "id": "d8c7276e-e004-4e21-a8be-fa8d36e1a443",
   "metadata": {},
   "source": [
    "The [Aviation Accident Database & Synopses, up to 2023](https://www.kaggle.com/datasets/khsamaha/aviation-accident-database-synopses/data) from the NTSB (National Transportation Safety Board) aviation accident database contains information about ​**civil aviation accidents and selected incidents** that occurred between 1962 and 2023 within the United States, its territories and possessions, and in international waters. From this database, I analyze the numbers of injuries, the make of the aircrafts, the number of engines on the aircrafts, and the model of the aircrafts to determine our first step in the expansion of the aviation industry."
   ]
  },
  {
   "cell_type": "code",
   "execution_count": 1,
   "id": "8974fd94-e195-483d-8045-e3f4d7b74496",
   "metadata": {},
   "outputs": [],
   "source": [
    "import pandas as pd\n",
    "import numpy as np\n",
    "import matplotlib.pyplot as plt\n",
    "import seaborn as sns\n",
    "import re\n",
    "\n",
    "pd.options.mode.copy_on_write = True"
   ]
  },
  {
   "cell_type": "code",
   "execution_count": 2,
   "id": "3ccec05c-5709-4633-9a7d-82c3b762d0fe",
   "metadata": {},
   "outputs": [],
   "source": [
    "aviation_df = pd.read_csv('data/AviationData.csv', encoding='latin', low_memory=False)"
   ]
  },
  {
   "cell_type": "markdown",
   "id": "0c655f78-4437-46a4-a06d-1f04d8762fd3",
   "metadata": {},
   "source": [
    "## Data Preparation"
   ]
  },
  {
   "cell_type": "markdown",
   "id": "b28cd3f4-ee44-43c0-aa00-acef39f268bd",
   "metadata": {},
   "source": [
    "The dataset has approximately 89,000 accidents and incidents. All but 4 columns have varying numbers of null values. There are over 12,000 unique models and 8,000 unique makes. These will have to be greatly narrowed down to determine a recommended make and model."
   ]
  },
  {
   "cell_type": "code",
   "execution_count": 3,
   "id": "eeee7a88-0abd-47ff-9710-933c04bd908c",
   "metadata": {},
   "outputs": [
    {
     "data": {
      "text/html": [
       "<div>\n",
       "<style scoped>\n",
       "    .dataframe tbody tr th:only-of-type {\n",
       "        vertical-align: middle;\n",
       "    }\n",
       "\n",
       "    .dataframe tbody tr th {\n",
       "        vertical-align: top;\n",
       "    }\n",
       "\n",
       "    .dataframe thead th {\n",
       "        text-align: right;\n",
       "    }\n",
       "</style>\n",
       "<table border=\"1\" class=\"dataframe\">\n",
       "  <thead>\n",
       "    <tr style=\"text-align: right;\">\n",
       "      <th></th>\n",
       "      <th>Event.Id</th>\n",
       "      <th>Investigation.Type</th>\n",
       "      <th>Accident.Number</th>\n",
       "      <th>Event.Date</th>\n",
       "      <th>Location</th>\n",
       "      <th>Country</th>\n",
       "      <th>Latitude</th>\n",
       "      <th>Longitude</th>\n",
       "      <th>Airport.Code</th>\n",
       "      <th>Airport.Name</th>\n",
       "      <th>...</th>\n",
       "      <th>Purpose.of.flight</th>\n",
       "      <th>Air.carrier</th>\n",
       "      <th>Total.Fatal.Injuries</th>\n",
       "      <th>Total.Serious.Injuries</th>\n",
       "      <th>Total.Minor.Injuries</th>\n",
       "      <th>Total.Uninjured</th>\n",
       "      <th>Weather.Condition</th>\n",
       "      <th>Broad.phase.of.flight</th>\n",
       "      <th>Report.Status</th>\n",
       "      <th>Publication.Date</th>\n",
       "    </tr>\n",
       "  </thead>\n",
       "  <tbody>\n",
       "    <tr>\n",
       "      <th>0</th>\n",
       "      <td>20001218X45444</td>\n",
       "      <td>Accident</td>\n",
       "      <td>SEA87LA080</td>\n",
       "      <td>1948-10-24</td>\n",
       "      <td>MOOSE CREEK, ID</td>\n",
       "      <td>United States</td>\n",
       "      <td>NaN</td>\n",
       "      <td>NaN</td>\n",
       "      <td>NaN</td>\n",
       "      <td>NaN</td>\n",
       "      <td>...</td>\n",
       "      <td>Personal</td>\n",
       "      <td>NaN</td>\n",
       "      <td>2.0</td>\n",
       "      <td>0.0</td>\n",
       "      <td>0.0</td>\n",
       "      <td>0.0</td>\n",
       "      <td>UNK</td>\n",
       "      <td>Cruise</td>\n",
       "      <td>Probable Cause</td>\n",
       "      <td>NaN</td>\n",
       "    </tr>\n",
       "    <tr>\n",
       "      <th>1</th>\n",
       "      <td>20001218X45447</td>\n",
       "      <td>Accident</td>\n",
       "      <td>LAX94LA336</td>\n",
       "      <td>1962-07-19</td>\n",
       "      <td>BRIDGEPORT, CA</td>\n",
       "      <td>United States</td>\n",
       "      <td>NaN</td>\n",
       "      <td>NaN</td>\n",
       "      <td>NaN</td>\n",
       "      <td>NaN</td>\n",
       "      <td>...</td>\n",
       "      <td>Personal</td>\n",
       "      <td>NaN</td>\n",
       "      <td>4.0</td>\n",
       "      <td>0.0</td>\n",
       "      <td>0.0</td>\n",
       "      <td>0.0</td>\n",
       "      <td>UNK</td>\n",
       "      <td>Unknown</td>\n",
       "      <td>Probable Cause</td>\n",
       "      <td>19-09-1996</td>\n",
       "    </tr>\n",
       "    <tr>\n",
       "      <th>2</th>\n",
       "      <td>20061025X01555</td>\n",
       "      <td>Accident</td>\n",
       "      <td>NYC07LA005</td>\n",
       "      <td>1974-08-30</td>\n",
       "      <td>Saltville, VA</td>\n",
       "      <td>United States</td>\n",
       "      <td>36.922223</td>\n",
       "      <td>-81.878056</td>\n",
       "      <td>NaN</td>\n",
       "      <td>NaN</td>\n",
       "      <td>...</td>\n",
       "      <td>Personal</td>\n",
       "      <td>NaN</td>\n",
       "      <td>3.0</td>\n",
       "      <td>NaN</td>\n",
       "      <td>NaN</td>\n",
       "      <td>NaN</td>\n",
       "      <td>IMC</td>\n",
       "      <td>Cruise</td>\n",
       "      <td>Probable Cause</td>\n",
       "      <td>26-02-2007</td>\n",
       "    </tr>\n",
       "    <tr>\n",
       "      <th>3</th>\n",
       "      <td>20001218X45448</td>\n",
       "      <td>Accident</td>\n",
       "      <td>LAX96LA321</td>\n",
       "      <td>1977-06-19</td>\n",
       "      <td>EUREKA, CA</td>\n",
       "      <td>United States</td>\n",
       "      <td>NaN</td>\n",
       "      <td>NaN</td>\n",
       "      <td>NaN</td>\n",
       "      <td>NaN</td>\n",
       "      <td>...</td>\n",
       "      <td>Personal</td>\n",
       "      <td>NaN</td>\n",
       "      <td>2.0</td>\n",
       "      <td>0.0</td>\n",
       "      <td>0.0</td>\n",
       "      <td>0.0</td>\n",
       "      <td>IMC</td>\n",
       "      <td>Cruise</td>\n",
       "      <td>Probable Cause</td>\n",
       "      <td>12-09-2000</td>\n",
       "    </tr>\n",
       "    <tr>\n",
       "      <th>4</th>\n",
       "      <td>20041105X01764</td>\n",
       "      <td>Accident</td>\n",
       "      <td>CHI79FA064</td>\n",
       "      <td>1979-08-02</td>\n",
       "      <td>Canton, OH</td>\n",
       "      <td>United States</td>\n",
       "      <td>NaN</td>\n",
       "      <td>NaN</td>\n",
       "      <td>NaN</td>\n",
       "      <td>NaN</td>\n",
       "      <td>...</td>\n",
       "      <td>Personal</td>\n",
       "      <td>NaN</td>\n",
       "      <td>1.0</td>\n",
       "      <td>2.0</td>\n",
       "      <td>NaN</td>\n",
       "      <td>0.0</td>\n",
       "      <td>VMC</td>\n",
       "      <td>Approach</td>\n",
       "      <td>Probable Cause</td>\n",
       "      <td>16-04-1980</td>\n",
       "    </tr>\n",
       "  </tbody>\n",
       "</table>\n",
       "<p>5 rows × 31 columns</p>\n",
       "</div>"
      ],
      "text/plain": [
       "         Event.Id Investigation.Type Accident.Number  Event.Date  \\\n",
       "0  20001218X45444           Accident      SEA87LA080  1948-10-24   \n",
       "1  20001218X45447           Accident      LAX94LA336  1962-07-19   \n",
       "2  20061025X01555           Accident      NYC07LA005  1974-08-30   \n",
       "3  20001218X45448           Accident      LAX96LA321  1977-06-19   \n",
       "4  20041105X01764           Accident      CHI79FA064  1979-08-02   \n",
       "\n",
       "          Location        Country   Latitude   Longitude Airport.Code  \\\n",
       "0  MOOSE CREEK, ID  United States        NaN         NaN          NaN   \n",
       "1   BRIDGEPORT, CA  United States        NaN         NaN          NaN   \n",
       "2    Saltville, VA  United States  36.922223  -81.878056          NaN   \n",
       "3       EUREKA, CA  United States        NaN         NaN          NaN   \n",
       "4       Canton, OH  United States        NaN         NaN          NaN   \n",
       "\n",
       "  Airport.Name  ... Purpose.of.flight Air.carrier Total.Fatal.Injuries  \\\n",
       "0          NaN  ...          Personal         NaN                  2.0   \n",
       "1          NaN  ...          Personal         NaN                  4.0   \n",
       "2          NaN  ...          Personal         NaN                  3.0   \n",
       "3          NaN  ...          Personal         NaN                  2.0   \n",
       "4          NaN  ...          Personal         NaN                  1.0   \n",
       "\n",
       "  Total.Serious.Injuries Total.Minor.Injuries Total.Uninjured  \\\n",
       "0                    0.0                  0.0             0.0   \n",
       "1                    0.0                  0.0             0.0   \n",
       "2                    NaN                  NaN             NaN   \n",
       "3                    0.0                  0.0             0.0   \n",
       "4                    2.0                  NaN             0.0   \n",
       "\n",
       "  Weather.Condition  Broad.phase.of.flight   Report.Status Publication.Date  \n",
       "0               UNK                 Cruise  Probable Cause              NaN  \n",
       "1               UNK                Unknown  Probable Cause       19-09-1996  \n",
       "2               IMC                 Cruise  Probable Cause       26-02-2007  \n",
       "3               IMC                 Cruise  Probable Cause       12-09-2000  \n",
       "4               VMC               Approach  Probable Cause       16-04-1980  \n",
       "\n",
       "[5 rows x 31 columns]"
      ]
     },
     "execution_count": 3,
     "metadata": {},
     "output_type": "execute_result"
    }
   ],
   "source": [
    "aviation_df.head()"
   ]
  },
  {
   "cell_type": "code",
   "execution_count": 4,
   "id": "158b477d-48d8-45c9-b597-967c25ca8b30",
   "metadata": {},
   "outputs": [
    {
     "name": "stdout",
     "output_type": "stream",
     "text": [
      "<class 'pandas.core.frame.DataFrame'>\n",
      "RangeIndex: 88889 entries, 0 to 88888\n",
      "Data columns (total 31 columns):\n",
      " #   Column                  Non-Null Count  Dtype  \n",
      "---  ------                  --------------  -----  \n",
      " 0   Event.Id                88889 non-null  object \n",
      " 1   Investigation.Type      88889 non-null  object \n",
      " 2   Accident.Number         88889 non-null  object \n",
      " 3   Event.Date              88889 non-null  object \n",
      " 4   Location                88837 non-null  object \n",
      " 5   Country                 88663 non-null  object \n",
      " 6   Latitude                34382 non-null  object \n",
      " 7   Longitude               34373 non-null  object \n",
      " 8   Airport.Code            50132 non-null  object \n",
      " 9   Airport.Name            52704 non-null  object \n",
      " 10  Injury.Severity         87889 non-null  object \n",
      " 11  Aircraft.damage         85695 non-null  object \n",
      " 12  Aircraft.Category       32287 non-null  object \n",
      " 13  Registration.Number     87507 non-null  object \n",
      " 14  Make                    88826 non-null  object \n",
      " 15  Model                   88797 non-null  object \n",
      " 16  Amateur.Built           88787 non-null  object \n",
      " 17  Number.of.Engines       82805 non-null  float64\n",
      " 18  Engine.Type             81793 non-null  object \n",
      " 19  FAR.Description         32023 non-null  object \n",
      " 20  Schedule                12582 non-null  object \n",
      " 21  Purpose.of.flight       82697 non-null  object \n",
      " 22  Air.carrier             16648 non-null  object \n",
      " 23  Total.Fatal.Injuries    77488 non-null  float64\n",
      " 24  Total.Serious.Injuries  76379 non-null  float64\n",
      " 25  Total.Minor.Injuries    76956 non-null  float64\n",
      " 26  Total.Uninjured         82977 non-null  float64\n",
      " 27  Weather.Condition       84397 non-null  object \n",
      " 28  Broad.phase.of.flight   61724 non-null  object \n",
      " 29  Report.Status           82505 non-null  object \n",
      " 30  Publication.Date        75118 non-null  object \n",
      "dtypes: float64(5), object(26)\n",
      "memory usage: 21.0+ MB\n"
     ]
    }
   ],
   "source": [
    "aviation_df.info()"
   ]
  },
  {
   "cell_type": "code",
   "execution_count": 5,
   "id": "71ff5dbf-5ca0-4ec3-9775-eafd38b67966",
   "metadata": {},
   "outputs": [
    {
     "data": {
      "text/plain": [
       "Event.Id                      0\n",
       "Investigation.Type            0\n",
       "Accident.Number               0\n",
       "Event.Date                    0\n",
       "Location                     52\n",
       "Country                     226\n",
       "Latitude                  54507\n",
       "Longitude                 54516\n",
       "Airport.Code              38757\n",
       "Airport.Name              36185\n",
       "Injury.Severity            1000\n",
       "Aircraft.damage            3194\n",
       "Aircraft.Category         56602\n",
       "Registration.Number        1382\n",
       "Make                         63\n",
       "Model                        92\n",
       "Amateur.Built               102\n",
       "Number.of.Engines          6084\n",
       "Engine.Type                7096\n",
       "FAR.Description           56866\n",
       "Schedule                  76307\n",
       "Purpose.of.flight          6192\n",
       "Air.carrier               72241\n",
       "Total.Fatal.Injuries      11401\n",
       "Total.Serious.Injuries    12510\n",
       "Total.Minor.Injuries      11933\n",
       "Total.Uninjured            5912\n",
       "Weather.Condition          4492\n",
       "Broad.phase.of.flight     27165\n",
       "Report.Status              6384\n",
       "Publication.Date          13771\n",
       "dtype: int64"
      ]
     },
     "execution_count": 5,
     "metadata": {},
     "output_type": "execute_result"
    }
   ],
   "source": [
    "# Count of how many null values are in each column\n",
    "aviation_df.isnull().sum()"
   ]
  },
  {
   "cell_type": "code",
   "execution_count": 6,
   "id": "85b81552-a63d-4ff4-863f-4ed09b06c803",
   "metadata": {},
   "outputs": [
    {
     "data": {
      "text/html": [
       "<div>\n",
       "<style scoped>\n",
       "    .dataframe tbody tr th:only-of-type {\n",
       "        vertical-align: middle;\n",
       "    }\n",
       "\n",
       "    .dataframe tbody tr th {\n",
       "        vertical-align: top;\n",
       "    }\n",
       "\n",
       "    .dataframe thead th {\n",
       "        text-align: right;\n",
       "    }\n",
       "</style>\n",
       "<table border=\"1\" class=\"dataframe\">\n",
       "  <thead>\n",
       "    <tr style=\"text-align: right;\">\n",
       "      <th></th>\n",
       "      <th>Number.of.Engines</th>\n",
       "      <th>Total.Fatal.Injuries</th>\n",
       "      <th>Total.Serious.Injuries</th>\n",
       "      <th>Total.Minor.Injuries</th>\n",
       "      <th>Total.Uninjured</th>\n",
       "    </tr>\n",
       "  </thead>\n",
       "  <tbody>\n",
       "    <tr>\n",
       "      <th>count</th>\n",
       "      <td>82805.000000</td>\n",
       "      <td>77488.000000</td>\n",
       "      <td>76379.000000</td>\n",
       "      <td>76956.000000</td>\n",
       "      <td>82977.000000</td>\n",
       "    </tr>\n",
       "    <tr>\n",
       "      <th>mean</th>\n",
       "      <td>1.146585</td>\n",
       "      <td>0.647855</td>\n",
       "      <td>0.279881</td>\n",
       "      <td>0.357061</td>\n",
       "      <td>5.325440</td>\n",
       "    </tr>\n",
       "    <tr>\n",
       "      <th>std</th>\n",
       "      <td>0.446510</td>\n",
       "      <td>5.485960</td>\n",
       "      <td>1.544084</td>\n",
       "      <td>2.235625</td>\n",
       "      <td>27.913634</td>\n",
       "    </tr>\n",
       "    <tr>\n",
       "      <th>min</th>\n",
       "      <td>0.000000</td>\n",
       "      <td>0.000000</td>\n",
       "      <td>0.000000</td>\n",
       "      <td>0.000000</td>\n",
       "      <td>0.000000</td>\n",
       "    </tr>\n",
       "    <tr>\n",
       "      <th>25%</th>\n",
       "      <td>1.000000</td>\n",
       "      <td>0.000000</td>\n",
       "      <td>0.000000</td>\n",
       "      <td>0.000000</td>\n",
       "      <td>0.000000</td>\n",
       "    </tr>\n",
       "    <tr>\n",
       "      <th>50%</th>\n",
       "      <td>1.000000</td>\n",
       "      <td>0.000000</td>\n",
       "      <td>0.000000</td>\n",
       "      <td>0.000000</td>\n",
       "      <td>1.000000</td>\n",
       "    </tr>\n",
       "    <tr>\n",
       "      <th>75%</th>\n",
       "      <td>1.000000</td>\n",
       "      <td>0.000000</td>\n",
       "      <td>0.000000</td>\n",
       "      <td>0.000000</td>\n",
       "      <td>2.000000</td>\n",
       "    </tr>\n",
       "    <tr>\n",
       "      <th>max</th>\n",
       "      <td>8.000000</td>\n",
       "      <td>349.000000</td>\n",
       "      <td>161.000000</td>\n",
       "      <td>380.000000</td>\n",
       "      <td>699.000000</td>\n",
       "    </tr>\n",
       "  </tbody>\n",
       "</table>\n",
       "</div>"
      ],
      "text/plain": [
       "       Number.of.Engines  Total.Fatal.Injuries  Total.Serious.Injuries  \\\n",
       "count       82805.000000          77488.000000            76379.000000   \n",
       "mean            1.146585              0.647855                0.279881   \n",
       "std             0.446510              5.485960                1.544084   \n",
       "min             0.000000              0.000000                0.000000   \n",
       "25%             1.000000              0.000000                0.000000   \n",
       "50%             1.000000              0.000000                0.000000   \n",
       "75%             1.000000              0.000000                0.000000   \n",
       "max             8.000000            349.000000              161.000000   \n",
       "\n",
       "       Total.Minor.Injuries  Total.Uninjured  \n",
       "count          76956.000000     82977.000000  \n",
       "mean               0.357061         5.325440  \n",
       "std                2.235625        27.913634  \n",
       "min                0.000000         0.000000  \n",
       "25%                0.000000         0.000000  \n",
       "50%                0.000000         1.000000  \n",
       "75%                0.000000         2.000000  \n",
       "max              380.000000       699.000000  "
      ]
     },
     "execution_count": 6,
     "metadata": {},
     "output_type": "execute_result"
    }
   ],
   "source": [
    "# Provide descriptive statistics for the numerical data columns\n",
    "aviation_df.describe()"
   ]
  },
  {
   "cell_type": "code",
   "execution_count": 7,
   "id": "065b1e6e-a631-44a9-869d-7342b0bd400f",
   "metadata": {},
   "outputs": [
    {
     "data": {
      "text/plain": [
       "12318"
      ]
     },
     "execution_count": 7,
     "metadata": {},
     "output_type": "execute_result"
    }
   ],
   "source": [
    "# Number of options for cities\n",
    "aviation_df['Model'].nunique()"
   ]
  },
  {
   "cell_type": "code",
   "execution_count": 8,
   "id": "81133a43-8042-46bd-8517-0fd3f346a1c3",
   "metadata": {},
   "outputs": [
    {
     "data": {
      "text/plain": [
       "8237"
      ]
     },
     "execution_count": 8,
     "metadata": {},
     "output_type": "execute_result"
    }
   ],
   "source": [
    "aviation_df['Make'].nunique()"
   ]
  },
  {
   "cell_type": "code",
   "execution_count": 9,
   "id": "31b41ff2-aa28-4bdd-92f6-b0ae22ed68c8",
   "metadata": {},
   "outputs": [],
   "source": [
    "# Print a count of the top 5 values in each column\n",
    "# This code is commented out due to the lengthy output, but it includes the ratios of the top 5 values of each column in the dataset.\n",
    "# for col in aviation_df.columns:\n",
    "    # print(col, '\\n', aviation_df[col].value_counts(normalize=True).head(), '\\n\\n')"
   ]
  },
  {
   "cell_type": "markdown",
   "id": "1dcb7a4a-e9cd-44f1-b9b6-3037de00fcc8",
   "metadata": {},
   "source": [
    "## Data Cleaning"
   ]
  },
  {
   "cell_type": "markdown",
   "id": "3ade41a9-e4f8-4568-a597-dd6349140eaf",
   "metadata": {},
   "source": [
    "Before beginning any type of analysis, I must clean the dataset. \n",
    "1. I check for **duplicates** (there are none).\n",
    "2. I **drop columns** that will not be useful to my analysis.\n",
    "3. I standardize the **column names** and **make names**. \n",
    "4. I **create 3 more columns** that will be useful during the analysis: Total_Passengers, Fatal_Injuries_Rate, Uninjured_Rate.\n",
    "5. I **drop na's** from columns that include number or rates of injuries, fatalities or uninjured because without those numbers, I will not be able to determine safety."
   ]
  },
  {
   "cell_type": "code",
   "execution_count": 10,
   "id": "f075c704-21c8-44a0-884d-3dab9c94f247",
   "metadata": {},
   "outputs": [],
   "source": [
    "# Make a copy of the dataset to clean\n",
    "aviation_clean = aviation_df.copy()"
   ]
  },
  {
   "cell_type": "code",
   "execution_count": 11,
   "id": "ef4193b6-1391-4bff-810a-a0ab2b2e09ac",
   "metadata": {
    "scrolled": true
   },
   "outputs": [
    {
     "data": {
      "text/plain": [
       "0"
      ]
     },
     "execution_count": 11,
     "metadata": {},
     "output_type": "execute_result"
    }
   ],
   "source": [
    "# Check for duplicates\n",
    "duplicates = aviation_clean[aviation_clean.duplicated()]\n",
    "len(duplicates)"
   ]
  },
  {
   "cell_type": "code",
   "execution_count": 12,
   "id": "83f6322a-9b07-4923-b4df-277d51e313ac",
   "metadata": {},
   "outputs": [],
   "source": [
    "# Clean column names by replacing '.' in column names with '_'\n",
    "aviation_clean.columns = aviation_clean.columns.map(lambda x: x.replace('.', '_',).title())"
   ]
  },
  {
   "cell_type": "code",
   "execution_count": 13,
   "id": "e26a3c9e-7800-4569-a5fa-2847bbea0a67",
   "metadata": {},
   "outputs": [],
   "source": [
    "# Rewrite 'Makes' in title case\n",
    "aviation_clean['Make'] = aviation_clean['Make'].map(lambda x: str(x).title())"
   ]
  },
  {
   "cell_type": "code",
   "execution_count": 14,
   "id": "446bdb6c-484a-4ea7-a98a-63908f12b0ed",
   "metadata": {},
   "outputs": [],
   "source": [
    "# Cast model numbers to string, as some are type float, and replace spaces with dash\n",
    "aviation_clean['Model'] = aviation_clean['Model'].map(lambda x: str(x).replace(' ', '-'))"
   ]
  },
  {
   "cell_type": "code",
   "execution_count": 15,
   "id": "687d4bd3-fdbe-4a4c-b8e9-0894c0445301",
   "metadata": {},
   "outputs": [],
   "source": [
    "# Drop unuseful columns\n",
    "aviation_clean.drop(columns=['Latitude', 'Longitude', 'Schedule', 'Air_Carrier', 'Aircraft_Category', 'Far_Description'], inplace=True)"
   ]
  },
  {
   "cell_type": "code",
   "execution_count": 16,
   "id": "249369a0-a81f-4879-b646-b3162768577d",
   "metadata": {},
   "outputs": [],
   "source": [
    "# Create a column with Total Number of Passengers\n",
    "aviation_clean['Total_Passengers'] = aviation_clean['Total_Fatal_Injuries'] + aviation_clean['Total_Serious_Injuries'] \\\n",
    "    + aviation_clean['Total_Minor_Injuries'] + aviation_clean['Total_Uninjured']\n",
    "\n",
    "# Create a column with proportion of fatal injuries per accident\n",
    "aviation_clean['Fatal_Injuries_Rate'] = aviation_clean['Total_Fatal_Injuries'] / aviation_clean['Total_Passengers']\n",
    "\n",
    "# Create a column with proportion of uninjured per accident\n",
    "aviation_clean['Uninjured_Rate'] = aviation_clean['Total_Uninjured'] / aviation_clean['Total_Passengers']"
   ]
  },
  {
   "cell_type": "code",
   "execution_count": 17,
   "id": "33d8ae3a-f522-4ca6-8e01-0de235b30579",
   "metadata": {},
   "outputs": [
    {
     "data": {
      "text/html": [
       "<div>\n",
       "<style scoped>\n",
       "    .dataframe tbody tr th:only-of-type {\n",
       "        vertical-align: middle;\n",
       "    }\n",
       "\n",
       "    .dataframe tbody tr th {\n",
       "        vertical-align: top;\n",
       "    }\n",
       "\n",
       "    .dataframe thead th {\n",
       "        text-align: right;\n",
       "    }\n",
       "</style>\n",
       "<table border=\"1\" class=\"dataframe\">\n",
       "  <thead>\n",
       "    <tr style=\"text-align: right;\">\n",
       "      <th></th>\n",
       "      <th>Event_Id</th>\n",
       "      <th>Investigation_Type</th>\n",
       "      <th>Accident_Number</th>\n",
       "      <th>Event_Date</th>\n",
       "      <th>Location</th>\n",
       "      <th>Country</th>\n",
       "      <th>Airport_Code</th>\n",
       "      <th>Airport_Name</th>\n",
       "      <th>Injury_Severity</th>\n",
       "      <th>Aircraft_Damage</th>\n",
       "      <th>...</th>\n",
       "      <th>Total_Serious_Injuries</th>\n",
       "      <th>Total_Minor_Injuries</th>\n",
       "      <th>Total_Uninjured</th>\n",
       "      <th>Weather_Condition</th>\n",
       "      <th>Broad_Phase_Of_Flight</th>\n",
       "      <th>Report_Status</th>\n",
       "      <th>Publication_Date</th>\n",
       "      <th>Total_Passengers</th>\n",
       "      <th>Fatal_Injuries_Rate</th>\n",
       "      <th>Uninjured_Rate</th>\n",
       "    </tr>\n",
       "  </thead>\n",
       "  <tbody>\n",
       "    <tr>\n",
       "      <th>79665</th>\n",
       "      <td>20170608X45500</td>\n",
       "      <td>Incident</td>\n",
       "      <td>DCA17WA137</td>\n",
       "      <td>2017-03-19</td>\n",
       "      <td>Amsterdam, Netherlands (the)</td>\n",
       "      <td>Netherlands</td>\n",
       "      <td>NaN</td>\n",
       "      <td>NaN</td>\n",
       "      <td>NaN</td>\n",
       "      <td>NaN</td>\n",
       "      <td>...</td>\n",
       "      <td>0.0</td>\n",
       "      <td>0.0</td>\n",
       "      <td>0.0</td>\n",
       "      <td>NaN</td>\n",
       "      <td>NaN</td>\n",
       "      <td>NaN</td>\n",
       "      <td>25-09-2020</td>\n",
       "      <td>0.0</td>\n",
       "      <td>NaN</td>\n",
       "      <td>NaN</td>\n",
       "    </tr>\n",
       "    <tr>\n",
       "      <th>60890</th>\n",
       "      <td>20060629X00855</td>\n",
       "      <td>Accident</td>\n",
       "      <td>ANC06LA074</td>\n",
       "      <td>2006-06-21</td>\n",
       "      <td>BETTLES, AK</td>\n",
       "      <td>United States</td>\n",
       "      <td>2A4</td>\n",
       "      <td>VOR Lake Waterlane Seaplane</td>\n",
       "      <td>Non-Fatal</td>\n",
       "      <td>Substantial</td>\n",
       "      <td>...</td>\n",
       "      <td>2.0</td>\n",
       "      <td>NaN</td>\n",
       "      <td>NaN</td>\n",
       "      <td>VMC</td>\n",
       "      <td>Takeoff</td>\n",
       "      <td>Probable Cause</td>\n",
       "      <td>25-04-2007</td>\n",
       "      <td>NaN</td>\n",
       "      <td>NaN</td>\n",
       "      <td>NaN</td>\n",
       "    </tr>\n",
       "    <tr>\n",
       "      <th>19663</th>\n",
       "      <td>20001213X25152</td>\n",
       "      <td>Accident</td>\n",
       "      <td>NYC88LA082</td>\n",
       "      <td>1988-02-16</td>\n",
       "      <td>BRIDGEPORT, CT</td>\n",
       "      <td>United States</td>\n",
       "      <td>BDR</td>\n",
       "      <td>SIKORSKY</td>\n",
       "      <td>Non-Fatal</td>\n",
       "      <td>Destroyed</td>\n",
       "      <td>...</td>\n",
       "      <td>NaN</td>\n",
       "      <td>NaN</td>\n",
       "      <td>3.0</td>\n",
       "      <td>VMC</td>\n",
       "      <td>Landing</td>\n",
       "      <td>Probable Cause</td>\n",
       "      <td>04-06-2013</td>\n",
       "      <td>NaN</td>\n",
       "      <td>NaN</td>\n",
       "      <td>NaN</td>\n",
       "    </tr>\n",
       "    <tr>\n",
       "      <th>60306</th>\n",
       "      <td>20060413X00435</td>\n",
       "      <td>Accident</td>\n",
       "      <td>DFW06WA100</td>\n",
       "      <td>2006-03-10</td>\n",
       "      <td>Cochabamba, Bolivia</td>\n",
       "      <td>Bolivia</td>\n",
       "      <td>NaN</td>\n",
       "      <td>NaN</td>\n",
       "      <td>Non-Fatal</td>\n",
       "      <td>Minor</td>\n",
       "      <td>...</td>\n",
       "      <td>NaN</td>\n",
       "      <td>NaN</td>\n",
       "      <td>2.0</td>\n",
       "      <td>VMC</td>\n",
       "      <td>NaN</td>\n",
       "      <td>Foreign</td>\n",
       "      <td>13-04-2006</td>\n",
       "      <td>NaN</td>\n",
       "      <td>NaN</td>\n",
       "      <td>NaN</td>\n",
       "    </tr>\n",
       "    <tr>\n",
       "      <th>50944</th>\n",
       "      <td>20010712X01389</td>\n",
       "      <td>Accident</td>\n",
       "      <td>ATL01LA074</td>\n",
       "      <td>2001-07-06</td>\n",
       "      <td>Ft. Lauderdale, FL</td>\n",
       "      <td>United States</td>\n",
       "      <td>NaN</td>\n",
       "      <td>NaN</td>\n",
       "      <td>Non-Fatal</td>\n",
       "      <td>Destroyed</td>\n",
       "      <td>...</td>\n",
       "      <td>NaN</td>\n",
       "      <td>NaN</td>\n",
       "      <td>2.0</td>\n",
       "      <td>VMC</td>\n",
       "      <td>Cruise</td>\n",
       "      <td>Probable Cause</td>\n",
       "      <td>20-02-2002</td>\n",
       "      <td>NaN</td>\n",
       "      <td>NaN</td>\n",
       "      <td>NaN</td>\n",
       "    </tr>\n",
       "    <tr>\n",
       "      <th>3446</th>\n",
       "      <td>20020917X04798</td>\n",
       "      <td>Accident</td>\n",
       "      <td>LAX83FA055</td>\n",
       "      <td>1982-12-09</td>\n",
       "      <td>500 NM E, HONOLULU, HI</td>\n",
       "      <td>United States</td>\n",
       "      <td>NaN</td>\n",
       "      <td>NaN</td>\n",
       "      <td>Fatal(2)</td>\n",
       "      <td>Destroyed</td>\n",
       "      <td>...</td>\n",
       "      <td>NaN</td>\n",
       "      <td>NaN</td>\n",
       "      <td>NaN</td>\n",
       "      <td>VMC</td>\n",
       "      <td>Cruise</td>\n",
       "      <td>Probable Cause</td>\n",
       "      <td>02-02-2016</td>\n",
       "      <td>NaN</td>\n",
       "      <td>NaN</td>\n",
       "      <td>NaN</td>\n",
       "    </tr>\n",
       "    <tr>\n",
       "      <th>55259</th>\n",
       "      <td>20030829X01431</td>\n",
       "      <td>Accident</td>\n",
       "      <td>ANC03LA104</td>\n",
       "      <td>2003-08-07</td>\n",
       "      <td>SITKA, AK</td>\n",
       "      <td>United States</td>\n",
       "      <td>NaN</td>\n",
       "      <td>NaN</td>\n",
       "      <td>Non-Fatal</td>\n",
       "      <td>Substantial</td>\n",
       "      <td>...</td>\n",
       "      <td>NaN</td>\n",
       "      <td>NaN</td>\n",
       "      <td>1.0</td>\n",
       "      <td>VMC</td>\n",
       "      <td>Takeoff</td>\n",
       "      <td>Probable Cause</td>\n",
       "      <td>05-02-2004</td>\n",
       "      <td>NaN</td>\n",
       "      <td>NaN</td>\n",
       "      <td>NaN</td>\n",
       "    </tr>\n",
       "    <tr>\n",
       "      <th>62168</th>\n",
       "      <td>20070522X00601</td>\n",
       "      <td>Accident</td>\n",
       "      <td>NYC07CA076</td>\n",
       "      <td>2007-03-12</td>\n",
       "      <td>FARMINGDALE, NJ</td>\n",
       "      <td>United States</td>\n",
       "      <td>BLM</td>\n",
       "      <td>Monmouth Executive</td>\n",
       "      <td>Non-Fatal</td>\n",
       "      <td>Substantial</td>\n",
       "      <td>...</td>\n",
       "      <td>NaN</td>\n",
       "      <td>1.0</td>\n",
       "      <td>3.0</td>\n",
       "      <td>VMC</td>\n",
       "      <td>Cruise</td>\n",
       "      <td>Probable Cause</td>\n",
       "      <td>27-06-2007</td>\n",
       "      <td>NaN</td>\n",
       "      <td>NaN</td>\n",
       "      <td>NaN</td>\n",
       "    </tr>\n",
       "    <tr>\n",
       "      <th>52197</th>\n",
       "      <td>20020312X00331</td>\n",
       "      <td>Incident</td>\n",
       "      <td>SEA02IA044</td>\n",
       "      <td>2002-03-01</td>\n",
       "      <td>Boise, ID</td>\n",
       "      <td>United States</td>\n",
       "      <td>NaN</td>\n",
       "      <td>NaN</td>\n",
       "      <td>Incident</td>\n",
       "      <td>NaN</td>\n",
       "      <td>...</td>\n",
       "      <td>NaN</td>\n",
       "      <td>NaN</td>\n",
       "      <td>73.0</td>\n",
       "      <td>VMC</td>\n",
       "      <td>Cruise</td>\n",
       "      <td>Probable Cause</td>\n",
       "      <td>03-06-2002</td>\n",
       "      <td>NaN</td>\n",
       "      <td>NaN</td>\n",
       "      <td>NaN</td>\n",
       "    </tr>\n",
       "    <tr>\n",
       "      <th>85316</th>\n",
       "      <td>20200909X85922</td>\n",
       "      <td>Incident</td>\n",
       "      <td>DCA20WA144</td>\n",
       "      <td>2020-09-08</td>\n",
       "      <td>West Midland, United Kingdom</td>\n",
       "      <td>United Kingdom</td>\n",
       "      <td>NaN</td>\n",
       "      <td>NaN</td>\n",
       "      <td>NaN</td>\n",
       "      <td>NaN</td>\n",
       "      <td>...</td>\n",
       "      <td>0.0</td>\n",
       "      <td>0.0</td>\n",
       "      <td>0.0</td>\n",
       "      <td>NaN</td>\n",
       "      <td>NaN</td>\n",
       "      <td>NaN</td>\n",
       "      <td>26-09-2020</td>\n",
       "      <td>0.0</td>\n",
       "      <td>NaN</td>\n",
       "      <td>NaN</td>\n",
       "    </tr>\n",
       "  </tbody>\n",
       "</table>\n",
       "<p>10 rows × 28 columns</p>\n",
       "</div>"
      ],
      "text/plain": [
       "             Event_Id Investigation_Type Accident_Number  Event_Date  \\\n",
       "79665  20170608X45500           Incident      DCA17WA137  2017-03-19   \n",
       "60890  20060629X00855           Accident      ANC06LA074  2006-06-21   \n",
       "19663  20001213X25152           Accident      NYC88LA082  1988-02-16   \n",
       "60306  20060413X00435           Accident      DFW06WA100  2006-03-10   \n",
       "50944  20010712X01389           Accident      ATL01LA074  2001-07-06   \n",
       "3446   20020917X04798           Accident      LAX83FA055  1982-12-09   \n",
       "55259  20030829X01431           Accident      ANC03LA104  2003-08-07   \n",
       "62168  20070522X00601           Accident      NYC07CA076  2007-03-12   \n",
       "52197  20020312X00331           Incident      SEA02IA044  2002-03-01   \n",
       "85316  20200909X85922           Incident      DCA20WA144  2020-09-08   \n",
       "\n",
       "                           Location         Country Airport_Code  \\\n",
       "79665  Amsterdam, Netherlands (the)     Netherlands          NaN   \n",
       "60890                   BETTLES, AK   United States          2A4   \n",
       "19663                BRIDGEPORT, CT   United States          BDR   \n",
       "60306           Cochabamba, Bolivia         Bolivia          NaN   \n",
       "50944            Ft. Lauderdale, FL   United States          NaN   \n",
       "3446         500 NM E, HONOLULU, HI   United States          NaN   \n",
       "55259                     SITKA, AK   United States          NaN   \n",
       "62168               FARMINGDALE, NJ   United States          BLM   \n",
       "52197                     Boise, ID   United States          NaN   \n",
       "85316  West Midland, United Kingdom  United Kingdom          NaN   \n",
       "\n",
       "                      Airport_Name Injury_Severity Aircraft_Damage  ...  \\\n",
       "79665                          NaN             NaN             NaN  ...   \n",
       "60890  VOR Lake Waterlane Seaplane       Non-Fatal     Substantial  ...   \n",
       "19663                     SIKORSKY       Non-Fatal       Destroyed  ...   \n",
       "60306                          NaN       Non-Fatal           Minor  ...   \n",
       "50944                          NaN       Non-Fatal       Destroyed  ...   \n",
       "3446                           NaN        Fatal(2)       Destroyed  ...   \n",
       "55259                          NaN       Non-Fatal     Substantial  ...   \n",
       "62168           Monmouth Executive       Non-Fatal     Substantial  ...   \n",
       "52197                          NaN        Incident             NaN  ...   \n",
       "85316                          NaN             NaN             NaN  ...   \n",
       "\n",
       "      Total_Serious_Injuries Total_Minor_Injuries Total_Uninjured  \\\n",
       "79665                    0.0                  0.0             0.0   \n",
       "60890                    2.0                  NaN             NaN   \n",
       "19663                    NaN                  NaN             3.0   \n",
       "60306                    NaN                  NaN             2.0   \n",
       "50944                    NaN                  NaN             2.0   \n",
       "3446                     NaN                  NaN             NaN   \n",
       "55259                    NaN                  NaN             1.0   \n",
       "62168                    NaN                  1.0             3.0   \n",
       "52197                    NaN                  NaN            73.0   \n",
       "85316                    0.0                  0.0             0.0   \n",
       "\n",
       "      Weather_Condition  Broad_Phase_Of_Flight   Report_Status  \\\n",
       "79665               NaN                    NaN             NaN   \n",
       "60890               VMC                Takeoff  Probable Cause   \n",
       "19663               VMC                Landing  Probable Cause   \n",
       "60306               VMC                    NaN         Foreign   \n",
       "50944               VMC                 Cruise  Probable Cause   \n",
       "3446                VMC                 Cruise  Probable Cause   \n",
       "55259               VMC                Takeoff  Probable Cause   \n",
       "62168               VMC                 Cruise  Probable Cause   \n",
       "52197               VMC                 Cruise  Probable Cause   \n",
       "85316               NaN                    NaN             NaN   \n",
       "\n",
       "      Publication_Date  Total_Passengers  Fatal_Injuries_Rate  Uninjured_Rate  \n",
       "79665       25-09-2020               0.0                  NaN             NaN  \n",
       "60890       25-04-2007               NaN                  NaN             NaN  \n",
       "19663       04-06-2013               NaN                  NaN             NaN  \n",
       "60306       13-04-2006               NaN                  NaN             NaN  \n",
       "50944       20-02-2002               NaN                  NaN             NaN  \n",
       "3446        02-02-2016               NaN                  NaN             NaN  \n",
       "55259       05-02-2004               NaN                  NaN             NaN  \n",
       "62168       27-06-2007               NaN                  NaN             NaN  \n",
       "52197       03-06-2002               NaN                  NaN             NaN  \n",
       "85316       26-09-2020               0.0                  NaN             NaN  \n",
       "\n",
       "[10 rows x 28 columns]"
      ]
     },
     "execution_count": 17,
     "metadata": {},
     "output_type": "execute_result"
    }
   ],
   "source": [
    "# NaNs are caused by dividing by 0\n",
    "aviation_clean[aviation_clean['Fatal_Injuries_Rate'].isna()].sample(10)"
   ]
  },
  {
   "cell_type": "code",
   "execution_count": 18,
   "id": "fcd55538-5b96-430f-bfb5-68444a0fe756",
   "metadata": {},
   "outputs": [],
   "source": [
    "# Clean NaNs from Total Fatal Injuries and Total Uninjured\n",
    "# I will remove all of the NaNs because without injury and fatality reports, I will not be able to determine safey\n",
    "aviation_clean.dropna(subset=['Total_Fatal_Injuries', 'Total_Serious_Injuries', 'Total_Minor_Injuries', 'Total_Uninjured', \\\n",
    "                              'Fatal_Injuries_Rate', 'Uninjured_Rate'], inplace=True)"
   ]
  },
  {
   "cell_type": "markdown",
   "id": "11c39603-2525-44e6-b766-bb0e1145bac3",
   "metadata": {},
   "source": [
    "I subset my data further into **top_4_makes**. This is a subset of the 4 most common manufacturers according to [Forbes](https://www.forbes.com/sites/geoffwhitmore/2019/08/16/what-is-the-safest-airplane-to-fly/?sh=1fee35415c72). I standardize the names of the 4 manufacturers."
   ]
  },
  {
   "cell_type": "code",
   "execution_count": 19,
   "id": "f262b806-17db-477a-b4fb-c5a0671c9210",
   "metadata": {},
   "outputs": [
    {
     "data": {
      "text/html": [
       "<div>\n",
       "<style scoped>\n",
       "    .dataframe tbody tr th:only-of-type {\n",
       "        vertical-align: middle;\n",
       "    }\n",
       "\n",
       "    .dataframe tbody tr th {\n",
       "        vertical-align: top;\n",
       "    }\n",
       "\n",
       "    .dataframe thead th {\n",
       "        text-align: right;\n",
       "    }\n",
       "</style>\n",
       "<table border=\"1\" class=\"dataframe\">\n",
       "  <thead>\n",
       "    <tr style=\"text-align: right;\">\n",
       "      <th></th>\n",
       "      <th>Event_Id</th>\n",
       "      <th>Investigation_Type</th>\n",
       "      <th>Accident_Number</th>\n",
       "      <th>Event_Date</th>\n",
       "      <th>Location</th>\n",
       "      <th>Country</th>\n",
       "      <th>Airport_Code</th>\n",
       "      <th>Airport_Name</th>\n",
       "      <th>Injury_Severity</th>\n",
       "      <th>Aircraft_Damage</th>\n",
       "      <th>...</th>\n",
       "      <th>Total_Serious_Injuries</th>\n",
       "      <th>Total_Minor_Injuries</th>\n",
       "      <th>Total_Uninjured</th>\n",
       "      <th>Weather_Condition</th>\n",
       "      <th>Broad_Phase_Of_Flight</th>\n",
       "      <th>Report_Status</th>\n",
       "      <th>Publication_Date</th>\n",
       "      <th>Total_Passengers</th>\n",
       "      <th>Fatal_Injuries_Rate</th>\n",
       "      <th>Uninjured_Rate</th>\n",
       "    </tr>\n",
       "  </thead>\n",
       "  <tbody>\n",
       "    <tr>\n",
       "      <th>50</th>\n",
       "      <td>20020917X02242</td>\n",
       "      <td>Accident</td>\n",
       "      <td>LAX82DVA10</td>\n",
       "      <td>1982-01-06</td>\n",
       "      <td>NEAR BAKERSFIEL, CA</td>\n",
       "      <td>United States</td>\n",
       "      <td>NaN</td>\n",
       "      <td>NaN</td>\n",
       "      <td>Non-Fatal</td>\n",
       "      <td>Substantial</td>\n",
       "      <td>...</td>\n",
       "      <td>1.0</td>\n",
       "      <td>0.0</td>\n",
       "      <td>1.0</td>\n",
       "      <td>IMC</td>\n",
       "      <td>Cruise</td>\n",
       "      <td>Probable Cause</td>\n",
       "      <td>06-01-1983</td>\n",
       "      <td>2.0</td>\n",
       "      <td>0.000000</td>\n",
       "      <td>0.5</td>\n",
       "    </tr>\n",
       "    <tr>\n",
       "      <th>80</th>\n",
       "      <td>20020917X01765</td>\n",
       "      <td>Incident</td>\n",
       "      <td>ATL82IA034</td>\n",
       "      <td>1982-01-12</td>\n",
       "      <td>CLARKSBURG, WV</td>\n",
       "      <td>United States</td>\n",
       "      <td>CKB</td>\n",
       "      <td>BENEDUM</td>\n",
       "      <td>Incident</td>\n",
       "      <td>Minor</td>\n",
       "      <td>...</td>\n",
       "      <td>0.0</td>\n",
       "      <td>0.0</td>\n",
       "      <td>2.0</td>\n",
       "      <td>VMC</td>\n",
       "      <td>Taxi</td>\n",
       "      <td>Probable Cause</td>\n",
       "      <td>12-01-1983</td>\n",
       "      <td>2.0</td>\n",
       "      <td>0.000000</td>\n",
       "      <td>1.0</td>\n",
       "    </tr>\n",
       "    <tr>\n",
       "      <th>84</th>\n",
       "      <td>20020917X01907</td>\n",
       "      <td>Accident</td>\n",
       "      <td>DCA82AA011</td>\n",
       "      <td>1982-01-13</td>\n",
       "      <td>WASHINGTON, DC</td>\n",
       "      <td>United States</td>\n",
       "      <td>NaN</td>\n",
       "      <td>WASHINGTON NATIONAL</td>\n",
       "      <td>Fatal(78)</td>\n",
       "      <td>Destroyed</td>\n",
       "      <td>...</td>\n",
       "      <td>6.0</td>\n",
       "      <td>3.0</td>\n",
       "      <td>0.0</td>\n",
       "      <td>IMC</td>\n",
       "      <td>Takeoff</td>\n",
       "      <td>Probable Cause</td>\n",
       "      <td>13-01-1983</td>\n",
       "      <td>87.0</td>\n",
       "      <td>0.896552</td>\n",
       "      <td>0.0</td>\n",
       "    </tr>\n",
       "    <tr>\n",
       "      <th>242</th>\n",
       "      <td>20020917X02585</td>\n",
       "      <td>Accident</td>\n",
       "      <td>SEA82DA028A</td>\n",
       "      <td>1982-02-06</td>\n",
       "      <td>MEDFORD, OR</td>\n",
       "      <td>United States</td>\n",
       "      <td>MFR</td>\n",
       "      <td>MEDFORD-JACKSON COUNTY</td>\n",
       "      <td>Non-Fatal</td>\n",
       "      <td>Minor</td>\n",
       "      <td>...</td>\n",
       "      <td>0.0</td>\n",
       "      <td>0.0</td>\n",
       "      <td>3.0</td>\n",
       "      <td>VMC</td>\n",
       "      <td>Taxi</td>\n",
       "      <td>Probable Cause</td>\n",
       "      <td>06-02-1983</td>\n",
       "      <td>3.0</td>\n",
       "      <td>0.000000</td>\n",
       "      <td>1.0</td>\n",
       "    </tr>\n",
       "    <tr>\n",
       "      <th>320</th>\n",
       "      <td>20020917X02336</td>\n",
       "      <td>Incident</td>\n",
       "      <td>LAX82IA075</td>\n",
       "      <td>1982-02-15</td>\n",
       "      <td>ONTARIO, CA</td>\n",
       "      <td>United States</td>\n",
       "      <td>ONT</td>\n",
       "      <td>ONTARIO INTERNATIONAL</td>\n",
       "      <td>Incident</td>\n",
       "      <td>Minor</td>\n",
       "      <td>...</td>\n",
       "      <td>0.0</td>\n",
       "      <td>0.0</td>\n",
       "      <td>119.0</td>\n",
       "      <td>IMC</td>\n",
       "      <td>Approach</td>\n",
       "      <td>Probable Cause</td>\n",
       "      <td>15-02-1983</td>\n",
       "      <td>119.0</td>\n",
       "      <td>0.000000</td>\n",
       "      <td>1.0</td>\n",
       "    </tr>\n",
       "  </tbody>\n",
       "</table>\n",
       "<p>5 rows × 28 columns</p>\n",
       "</div>"
      ],
      "text/plain": [
       "           Event_Id Investigation_Type Accident_Number  Event_Date  \\\n",
       "50   20020917X02242           Accident      LAX82DVA10  1982-01-06   \n",
       "80   20020917X01765           Incident      ATL82IA034  1982-01-12   \n",
       "84   20020917X01907           Accident      DCA82AA011  1982-01-13   \n",
       "242  20020917X02585           Accident     SEA82DA028A  1982-02-06   \n",
       "320  20020917X02336           Incident      LAX82IA075  1982-02-15   \n",
       "\n",
       "                Location        Country Airport_Code            Airport_Name  \\\n",
       "50   NEAR BAKERSFIEL, CA  United States          NaN                     NaN   \n",
       "80        CLARKSBURG, WV  United States          CKB                 BENEDUM   \n",
       "84        WASHINGTON, DC  United States          NaN     WASHINGTON NATIONAL   \n",
       "242          MEDFORD, OR  United States          MFR  MEDFORD-JACKSON COUNTY   \n",
       "320          ONTARIO, CA  United States          ONT   ONTARIO INTERNATIONAL   \n",
       "\n",
       "    Injury_Severity Aircraft_Damage  ... Total_Serious_Injuries  \\\n",
       "50        Non-Fatal     Substantial  ...                    1.0   \n",
       "80         Incident           Minor  ...                    0.0   \n",
       "84        Fatal(78)       Destroyed  ...                    6.0   \n",
       "242       Non-Fatal           Minor  ...                    0.0   \n",
       "320        Incident           Minor  ...                    0.0   \n",
       "\n",
       "    Total_Minor_Injuries Total_Uninjured Weather_Condition  \\\n",
       "50                   0.0             1.0               IMC   \n",
       "80                   0.0             2.0               VMC   \n",
       "84                   3.0             0.0               IMC   \n",
       "242                  0.0             3.0               VMC   \n",
       "320                  0.0           119.0               IMC   \n",
       "\n",
       "     Broad_Phase_Of_Flight   Report_Status Publication_Date  Total_Passengers  \\\n",
       "50                  Cruise  Probable Cause       06-01-1983               2.0   \n",
       "80                    Taxi  Probable Cause       12-01-1983               2.0   \n",
       "84                 Takeoff  Probable Cause       13-01-1983              87.0   \n",
       "242                   Taxi  Probable Cause       06-02-1983               3.0   \n",
       "320               Approach  Probable Cause       15-02-1983             119.0   \n",
       "\n",
       "     Fatal_Injuries_Rate  Uninjured_Rate  \n",
       "50              0.000000             0.5  \n",
       "80              0.000000             1.0  \n",
       "84              0.896552             0.0  \n",
       "242             0.000000             1.0  \n",
       "320             0.000000             1.0  \n",
       "\n",
       "[5 rows x 28 columns]"
      ]
     },
     "execution_count": 19,
     "metadata": {},
     "output_type": "execute_result"
    }
   ],
   "source": [
    "# Create new dataframe from us_flights with top 4 models. I chose the most common manufacturers according to Forbes.\n",
    "top_4_makes = aviation_clean[aviation_clean['Make'].str.contains('|'.join(['Boeing', 'Airbus', 'Bombardier', 'Embraer']))]\n",
    "top_4_makes.head()"
   ]
  },
  {
   "cell_type": "code",
   "execution_count": 20,
   "id": "6cc50e5a-e819-467a-84c8-785e29651b1a",
   "metadata": {},
   "outputs": [
    {
     "data": {
      "text/plain": [
       "Make\n",
       "Boeing                            1736\n",
       "Embraer                            164\n",
       "Airbus                             152\n",
       "Airbus Industrie                    89\n",
       "Bombardier Inc                      56\n",
       "Bombardier                          39\n",
       "Boeing Stearman                     33\n",
       "Airbus Helicopters                  13\n",
       "Bombardier, Inc.                     8\n",
       "Embraer S A                          7\n",
       "Embraer-Empresa Brasileira De        6\n",
       "Boeing Vertol                        5\n",
       "Airbus Helicopters Inc               3\n",
       "The Boeing Company                   3\n",
       "Embraer S.A.                         2\n",
       "Boeing - Canada (De Havilland)       2\n",
       "Boeing Company                       2\n",
       "Bombardier Canadair                  1\n",
       "Embraer Sa                           1\n",
       "Airbus Helicopters Deutschland       1\n",
       "Embraer Executive Aircraft Inc       1\n",
       "Airbus Helicopters (Eurocopte        1\n",
       "Boeing-Vertol                        1\n",
       "Airbus Helicopter                    1\n",
       "Airbus/Eurocopter                    1\n",
       "Boeing-Stearman                      1\n",
       "Embraer Aircraft                     1\n",
       "Bombardier Learjet Corp.             1\n",
       "Boeing Of Canada/Dehav Div           1\n",
       "Boeing-Brown                         1\n",
       "Boeing (Stearman)                    1\n",
       "Name: count, dtype: int64"
      ]
     },
     "execution_count": 20,
     "metadata": {},
     "output_type": "execute_result"
    }
   ],
   "source": [
    "top_4_makes['Make'].value_counts()"
   ]
  },
  {
   "cell_type": "code",
   "execution_count": 21,
   "id": "fd011e6e-4d28-44a4-baa7-a0b8597cad8a",
   "metadata": {},
   "outputs": [],
   "source": [
    "# Create a function to standardize the aircraft names\n",
    "\n",
    "def standardize_aircraft_name(name):\n",
    "    '''\n",
    "    This function takes in the name of an aircraft manufacturer and outputs the standardized name if it includes Boeing, \n",
    "    Airbus, Embraer, or Bombardier. Otherwise, it outputs the inputted name.\n",
    "    \n",
    "    Parameter:\n",
    "        name - The name of the aircraft manufacturer\n",
    "        \n",
    "    Returns:\n",
    "        new_name - The standardized version of the name, or the inputted name if it is not one of the 4 specified manufacturers\n",
    "    '''\n",
    "    \n",
    "    if 'Boeing' in name:\n",
    "        new_name = name.replace(name, 'Boeing')\n",
    "    elif 'Airbus' in name:\n",
    "        new_name = name.replace(name, 'Airbus')\n",
    "    elif 'Embraer' in name:\n",
    "        new_name = name.replace(name, 'Embraer')\n",
    "    elif 'Bombardier' in name:\n",
    "        new_name = name.replace(name, 'Bombardier')\n",
    "    else:\n",
    "        new_name = name\n",
    "    return new_name"
   ]
  },
  {
   "cell_type": "code",
   "execution_count": 22,
   "id": "7e66a532-180b-4a55-a81c-96f43d94bcc2",
   "metadata": {},
   "outputs": [],
   "source": [
    "# I noticed there were variations of Make names, so I will standardize the names\n",
    "top_4_makes['Make'] = top_4_makes['Make'].map(lambda x: standardize_aircraft_name(x))"
   ]
  },
  {
   "cell_type": "code",
   "execution_count": 23,
   "id": "99e203ed-8e28-44b8-b426-c1c8c985539a",
   "metadata": {},
   "outputs": [
    {
     "data": {
      "text/plain": [
       "Make\n",
       "Boeing        1786\n",
       "Airbus         261\n",
       "Embraer        182\n",
       "Bombardier     105\n",
       "Name: count, dtype: int64"
      ]
     },
     "execution_count": 23,
     "metadata": {},
     "output_type": "execute_result"
    }
   ],
   "source": [
    "# Check that function worked correctly\n",
    "top_4_makes['Make'].value_counts()"
   ]
  },
  {
   "cell_type": "code",
   "execution_count": 24,
   "id": "c8405f3b-6783-4011-8b10-e1ce7835ed6b",
   "metadata": {},
   "outputs": [],
   "source": [
    "# Some models are duplicated due to formatting issues. The following models are found to be the safest through my EDA below.\n",
    "# I clean the model names that have a 100% uninjured rate and add them to the safest_models list. This is being added here so these changes\n",
    "# can be implemented when the file is exported.\n",
    "\n",
    "\n",
    "\n",
    "# Merge like models\n",
    "top_4_makes['Model'] = top_4_makes['Model'].map(lambda x: 'DHC-8' if x == 'DHC8' else x)\n",
    "top_4_makes['Model'] = top_4_makes['Model'].map(lambda x: 'CL-600' if x == 'CL600' else x)\n",
    "top_4_makes['Model'] = top_4_makes['Model'].map(lambda x: 'CL-600-2B19' if x == 'CL600-2B19' else x)\n",
    "top_4_makes['Model'] = top_4_makes['Model'].map(lambda x: 'BD-700-1A10' if x == 'BD700-1A10' else x)\n",
    "top_4_makes['Model'] = top_4_makes['Model'].map(lambda x: 'BD-100-1A10' if x == 'BD100-1A10' else x)\n",
    "top_4_makes['Model'] = top_4_makes['Model'].map(lambda x: 'CL600-2D24-900' if x == 'CL600-2D24---900' else x)\n",
    "\n",
    "safest_models = ['35A', 'BD-700-1A10', 'CL-600', 'DHC-8-315', 'CL-600-2B1', 'DHC-8-202',\n",
    "    'CL-600-2C1', 'DHC-8', 'CL600-2D24---900']"
   ]
  },
  {
   "cell_type": "code",
   "execution_count": 25,
   "id": "49be68e0-5e24-4407-ad03-6873c32a7599",
   "metadata": {},
   "outputs": [
    {
     "name": "stdout",
     "output_type": "stream",
     "text": [
      "<class 'pandas.core.frame.DataFrame'>\n",
      "Index: 2334 entries, 50 to 88867\n",
      "Data columns (total 28 columns):\n",
      " #   Column                  Non-Null Count  Dtype  \n",
      "---  ------                  --------------  -----  \n",
      " 0   Event_Id                2334 non-null   object \n",
      " 1   Investigation_Type      2334 non-null   object \n",
      " 2   Accident_Number         2334 non-null   object \n",
      " 3   Event_Date              2334 non-null   object \n",
      " 4   Location                2330 non-null   object \n",
      " 5   Country                 2328 non-null   object \n",
      " 6   Airport_Code            1258 non-null   object \n",
      " 7   Airport_Name            1315 non-null   object \n",
      " 8   Injury_Severity         2334 non-null   object \n",
      " 9   Aircraft_Damage         1457 non-null   object \n",
      " 10  Registration_Number     2293 non-null   object \n",
      " 11  Make                    2334 non-null   object \n",
      " 12  Model                   2334 non-null   object \n",
      " 13  Amateur_Built           2334 non-null   object \n",
      " 14  Number_Of_Engines       1871 non-null   float64\n",
      " 15  Engine_Type             1732 non-null   object \n",
      " 16  Purpose_Of_Flight       1260 non-null   object \n",
      " 17  Total_Fatal_Injuries    2334 non-null   float64\n",
      " 18  Total_Serious_Injuries  2334 non-null   float64\n",
      " 19  Total_Minor_Injuries    2334 non-null   float64\n",
      " 20  Total_Uninjured         2334 non-null   float64\n",
      " 21  Weather_Condition       1737 non-null   object \n",
      " 22  Broad_Phase_Of_Flight   1038 non-null   object \n",
      " 23  Report_Status           1718 non-null   object \n",
      " 24  Publication_Date        2049 non-null   object \n",
      " 25  Total_Passengers        2334 non-null   float64\n",
      " 26  Fatal_Injuries_Rate     2334 non-null   float64\n",
      " 27  Uninjured_Rate          2334 non-null   float64\n",
      "dtypes: float64(8), object(20)\n",
      "memory usage: 528.8+ KB\n"
     ]
    }
   ],
   "source": [
    "top_4_makes.info()"
   ]
  },
  {
   "cell_type": "code",
   "execution_count": 40,
   "id": "1ad74fdb-138e-44aa-b661-7659de18f627",
   "metadata": {},
   "outputs": [],
   "source": [
    "# Export the clean data frame using df.to_csv() and upload to tableau to produce visuals\n",
    "\n",
    "top_4_makes.to_csv('top_4_makes.csv')"
   ]
  },
  {
   "cell_type": "markdown",
   "id": "1bb07613-bccb-47ea-89ed-b2be72ffff20",
   "metadata": {},
   "source": [
    "# Exploratory Data Analysis"
   ]
  },
  {
   "cell_type": "code",
   "execution_count": 27,
   "id": "7b9e35fa-73ee-443b-ae1e-df4912175161",
   "metadata": {},
   "outputs": [],
   "source": [
    "sns.set(style='whitegrid', context='notebook')"
   ]
  },
  {
   "cell_type": "markdown",
   "id": "769028e8-eb59-4293-a563-747e73372771",
   "metadata": {},
   "source": [
    "## *Make* Analysis"
   ]
  },
  {
   "cell_type": "markdown",
   "id": "458f7b04-fb61-4766-9243-b3b9bd86d2d6",
   "metadata": {},
   "source": [
    "I began with comparing the top 4 aircraft makes with the **average number of injuries** per accident. Bombardier has the *least* average number of injuries, while the average total fatal injuries is greater than Airbus, but comparable to Boeing and Embraer. Boeing has the *highest* average number of minor, serious, and fatal injuries."
   ]
  },
  {
   "cell_type": "code",
   "execution_count": 28,
   "id": "7ab0f2f5-7197-46c1-833a-5ea39c9542a6",
   "metadata": {},
   "outputs": [
    {
     "data": {
      "image/png": "[encoded data removed]",
      "text/plain": [
       "<Figure size 640x480 with 1 Axes>"
      ]
     },
     "metadata": {},
     "output_type": "display_data"
    }
   ],
   "source": [
    "# TO DO: ADD VALUES OF EACH BAR SECTION\n",
    "\n",
    "# Create stacked bar plot\n",
    "ax = top_4_makes.groupby(['Make'])[['Total_Fatal_Injuries', 'Total_Minor_Injuries', 'Total_Serious_Injuries']]\\\n",
    "    .mean().sort_values(by='Total_Fatal_Injuries', ascending=True).head().plot(kind='bar', stacked=True)\n",
    "ax.set_title('Average Total Injuries By Make')\n",
    "ax.set_xlabel('Aircraft Make')\n",
    "ax.set_ylabel('Average Number of Injuries');\n",
    "plt.tight_layout()\n",
    "plt.savefig('inj_by_make.png')"
   ]
  },
  {
   "cell_type": "markdown",
   "id": "eac152e2-c963-44ca-b556-10a5fe82f1f1",
   "metadata": {},
   "source": [
    "Next, I analyzed the **fatality rates** by make. Boeing and Bombardier hold the *lowest* fatality rates out of the top for manufacturers, while Embraer has the *highest* fatality rate among the four."
   ]
  },
  {
   "cell_type": "code",
   "execution_count": 29,
   "id": "0a726019-611d-4957-b79a-469153a5b4d9",
   "metadata": {
    "scrolled": true
   },
   "outputs": [
    {
     "data": {
      "image/png": "[encoded data removed]",
      "text/plain": [
       "<Figure size 640x480 with 1 Axes>"
      ]
     },
     "metadata": {},
     "output_type": "display_data"
    }
   ],
   "source": [
    "# Create bar plot\n",
    "ax = sns.barplot(data=top_4_makes, x='Make', y='Fatal_Injuries_Rate')\n",
    "ax.bar_label(ax.containers[0], fontsize=10);\n",
    "ax.set(xlabel='Make', ylabel='Fatalality Rate', title='Fatality Rate By Make');"
   ]
  },
  {
   "cell_type": "markdown",
   "id": "f5ea2135-eb6f-470d-aa09-194eed15ab77",
   "metadata": {},
   "source": [
    "Lastly, I analyzed the **uninjured rate** by make. Bombardier came out on *top*, with a 93% uninjured rate. The remaining three manufacturers are quite comparable, ranging from 76% to 88%."
   ]
  },
  {
   "cell_type": "code",
   "execution_count": 30,
   "id": "bb23078e-b522-44db-8640-c02e3203211c",
   "metadata": {},
   "outputs": [
    {
     "data": {
      "image/png": "[encoded data removed]",
      "text/plain": [
       "<Figure size 640x480 with 1 Axes>"
      ]
     },
     "metadata": {},
     "output_type": "display_data"
    }
   ],
   "source": [
    "# Create bar plot\n",
    "ax = sns.barplot(data=top_4_makes, x='Make', y='Uninjured_Rate')\n",
    "ax.bar_label(ax.containers[0], fontsize=10);\n",
    "ax.set(xlabel='Make', ylabel='Uninjured Rate', title='Uninjured Rate By Make');"
   ]
  },
  {
   "cell_type": "markdown",
   "id": "ed541ea3-c5ae-4705-adf6-a2ccbf09480a",
   "metadata": {},
   "source": [
    "## Number of Engines Analysis"
   ]
  },
  {
   "cell_type": "markdown",
   "id": "972943bf-f290-45a1-bfc9-e7766a8ecdc0",
   "metadata": {},
   "source": [
    "Aircrafts with **3 engines** hold both the *highest* uninjured rate and the *lowest* fatality rate, followed by aircrafts with 2 engines, aircrafts with 4 engines, and lastly, aircrafts with 1 engine. Aircrafts with 1 engines have the *lowest* uninjured rate and the *highest* fatality rate."
   ]
  },
  {
   "cell_type": "code",
   "execution_count": 31,
   "id": "472f4a23-2946-437c-827a-682fe9933378",
   "metadata": {},
   "outputs": [
    {
     "data": {
      "image/png": "[encoded data removed]",
      "text/plain": [
       "<Figure size 640x480 with 1 Axes>"
      ]
     },
     "metadata": {},
     "output_type": "display_data"
    }
   ],
   "source": [
    "# Create bar plot\n",
    "ax = top_4_makes.groupby(['Number_Of_Engines'])[['Fatal_Injuries_Rate', 'Uninjured_Rate']]\\\n",
    "    .mean().sort_values(by='Uninjured_Rate', ascending=True).plot(kind='bar', stacked=False);\n",
    "ax.set(xlabel='Number of Engines', ylabel='Average Rate', title='Fatality and Uninjured Rates By Number of Engines');\n",
    "plt.tight_layout()\n",
    "plt.savefig('rates_by_eng.png')"
   ]
  },
  {
   "cell_type": "code",
   "execution_count": 32,
   "id": "cd8d20f8-f635-460f-a92c-45dd9be46e60",
   "metadata": {},
   "outputs": [
    {
     "data": {
      "text/plain": [
       "49380            CRJ\n",
       "49601         CL-600\n",
       "49619         CL-600\n",
       "58138    CL-600-1A11\n",
       "58754    CL-600-2B19\n",
       "            ...     \n",
       "87202    BD-100-1A10\n",
       "87366    CL-600-2B16\n",
       "87622    CL-600-2B16\n",
       "87932    BD-100-1A10\n",
       "88247    BD-100-1A10\n",
       "Name: Model, Length: 88, dtype: object"
      ]
     },
     "execution_count": 32,
     "metadata": {},
     "output_type": "execute_result"
    }
   ],
   "source": [
    "# Bombardier aircrafts only come with 1 or 2 engines. According to the data, 2 engines are safer than one. I recommend we purchase \n",
    "# a Bombardier aircraft with 2 engines.\n",
    "make_options = top_4_makes['Model'][(top_4_makes['Make']=='Bombardier') & (top_4_makes['Number_Of_Engines']==2)]\n",
    "make_options"
   ]
  },
  {
   "cell_type": "markdown",
   "id": "7eda4b08-16fa-459a-8061-a82c5de97c4d",
   "metadata": {},
   "source": [
    "## *Model* Analysis"
   ]
  },
  {
   "cell_type": "markdown",
   "id": "d5990697-9b4e-4c99-ba05-d309bf1bcdc9",
   "metadata": {},
   "source": [
    "The aircrafts have been narrowed down to Bombardier 2-engine aircrafts. Upon the *model* analysis, I determined the most popular aircraft model by counting how many entries each of the models had in the data. The CL-600 had the **highest** count. Although this dataset does not have a record of *all* flights, I am assuming the CL-600 has the highest number of occurences due to its popularity. This assumption is supported by the fact that the Bombardier 2-engine aircrafts are proven to be safe, and all accidents with this model have a 100% uninjured rate."
   ]
  },
  {
   "cell_type": "code",
   "execution_count": 33,
   "id": "1c4fc646-3957-4a36-95ab-5e612e340bcb",
   "metadata": {},
   "outputs": [
    {
     "data": {
      "text/plain": [
       "Model\n",
       "CL-600-2B19       24\n",
       "CL-600-2C10       14\n",
       "DHC-8-402          7\n",
       "CL-600-2B16        7\n",
       "CL600-2D24         7\n",
       "BD-100-1A10        6\n",
       "CL-600             5\n",
       "DHC-8-202          2\n",
       "DHC-8              2\n",
       "BD-700-1A10        2\n",
       "CL600-2C10         2\n",
       "CRJ                2\n",
       "35A                2\n",
       "CL-600-2B1         1\n",
       "CL-600-2C1         1\n",
       "DHC-8-315          1\n",
       "CL-600-1A11        1\n",
       "CL600-2D24-900     1\n",
       "CL600-2A12         1\n",
       "Name: count, dtype: int64"
      ]
     },
     "execution_count": 33,
     "metadata": {},
     "output_type": "execute_result"
    }
   ],
   "source": [
    "# This is a list of all the double engine Bombardier aicrafts in our dataset. \n",
    "top_4_makes[(top_4_makes['Make']=='Bombardier') & (top_4_makes['Number_Of_Engines'] == 2)]['Model'].value_counts()"
   ]
  },
  {
   "cell_type": "code",
   "execution_count": 34,
   "id": "ff4f6821-9e61-4d86-ace6-0c90e6d50fd8",
   "metadata": {},
   "outputs": [
    {
     "data": {
      "image/png": "[encoded data removed]",
      "text/plain": [
       "<Figure size 640x480 with 1 Axes>"
      ]
     },
     "metadata": {},
     "output_type": "display_data"
    }
   ],
   "source": [
    "ax = top_4_makes[(top_4_makes['Make']=='Bombardier') & (top_4_makes['Number_Of_Engines'] == 2)].groupby(['Model'])\\\n",
    "    [['Uninjured_Rate']].mean().sort_values(by='Uninjured_Rate', ascending=True).plot(kind='bar', stacked=True)\n",
    "ax.set(xlabel='Model', ylabel='Uninjured Rate', title='Uninjured Rate By Bombardier Model');"
   ]
  },
  {
   "cell_type": "code",
   "execution_count": 41,
   "id": "88d25fc2-ef23-481e-8736-9b6290b03ef4",
   "metadata": {},
   "outputs": [
    {
     "data": {
      "text/html": [
       "<div>\n",
       "<style scoped>\n",
       "    .dataframe tbody tr th:only-of-type {\n",
       "        vertical-align: middle;\n",
       "    }\n",
       "\n",
       "    .dataframe tbody tr th {\n",
       "        vertical-align: top;\n",
       "    }\n",
       "\n",
       "    .dataframe thead th {\n",
       "        text-align: right;\n",
       "    }\n",
       "</style>\n",
       "<table border=\"1\" class=\"dataframe\">\n",
       "  <thead>\n",
       "    <tr style=\"text-align: right;\">\n",
       "      <th></th>\n",
       "      <th>Uninjured_Rate</th>\n",
       "    </tr>\n",
       "    <tr>\n",
       "      <th>Model</th>\n",
       "      <th></th>\n",
       "    </tr>\n",
       "  </thead>\n",
       "  <tbody>\n",
       "    <tr>\n",
       "      <th>35A</th>\n",
       "      <td>1.0</td>\n",
       "    </tr>\n",
       "    <tr>\n",
       "      <th>BD-700-1A10</th>\n",
       "      <td>1.0</td>\n",
       "    </tr>\n",
       "    <tr>\n",
       "      <th>CL-600</th>\n",
       "      <td>1.0</td>\n",
       "    </tr>\n",
       "    <tr>\n",
       "      <th>DHC-8-315</th>\n",
       "      <td>1.0</td>\n",
       "    </tr>\n",
       "    <tr>\n",
       "      <th>CL-600-2B1</th>\n",
       "      <td>1.0</td>\n",
       "    </tr>\n",
       "    <tr>\n",
       "      <th>DHC-8-202</th>\n",
       "      <td>1.0</td>\n",
       "    </tr>\n",
       "    <tr>\n",
       "      <th>CL-600-2C1</th>\n",
       "      <td>1.0</td>\n",
       "    </tr>\n",
       "    <tr>\n",
       "      <th>DHC-8</th>\n",
       "      <td>1.0</td>\n",
       "    </tr>\n",
       "    <tr>\n",
       "      <th>CL600-2D24-900</th>\n",
       "      <td>1.0</td>\n",
       "    </tr>\n",
       "  </tbody>\n",
       "</table>\n",
       "</div>"
      ],
      "text/plain": [
       "                Uninjured_Rate\n",
       "Model                         \n",
       "35A                        1.0\n",
       "BD-700-1A10                1.0\n",
       "CL-600                     1.0\n",
       "DHC-8-315                  1.0\n",
       "CL-600-2B1                 1.0\n",
       "DHC-8-202                  1.0\n",
       "CL-600-2C1                 1.0\n",
       "DHC-8                      1.0\n",
       "CL600-2D24-900             1.0"
      ]
     },
     "execution_count": 41,
     "metadata": {},
     "output_type": "execute_result"
    }
   ],
   "source": [
    "# 8 models with an uninjured rate of 100% to choose from\n",
    "top_9_models = top_4_makes[(top_4_makes['Make']=='Bombardier') & (top_4_makes['Number_Of_Engines'] == 2)].groupby(['Model'])\\\n",
    "    [['Uninjured_Rate']].mean().sort_values(by='Uninjured_Rate', ascending=False)\n",
    "top_9_models = top_9_models[top_9_models['Uninjured_Rate'] == 1.0]\n",
    "top_9_models"
   ]
  },
  {
   "cell_type": "code",
   "execution_count": 38,
   "id": "c79264a3-8129-40b2-897d-8973ad295223",
   "metadata": {},
   "outputs": [
    {
     "data": {
      "image/png": "[encoded data removed]",
      "text/plain": [
       "<Figure size 640x480 with 1 Axes>"
      ]
     },
     "metadata": {},
     "output_type": "display_data"
    }
   ],
   "source": [
    "# Count the number of occurrences of each of the 8 safest aircraft models.\n",
    "\n",
    "top_8_models_count = top_4_makes[top_4_makes['Model'].isin(safest_models)]\n",
    "ax = top_8_models_count['Model'].value_counts().plot(kind='bar')\n",
    "ax.set(xlabel='Model', ylabel='Number of Occurrences', title='Number of Occurences of the Top 8 Safest Bombardier Aircrafts');"
   ]
  },
  {
   "cell_type": "code",
   "execution_count": 39,
   "id": "582cc603-dc55-45cd-b662-80b1f73bde7b",
   "metadata": {},
   "outputs": [
    {
     "ename": "IndexError",
     "evalue": "index 0 is out of bounds for axis 0 with size 0",
     "output_type": "error",
     "traceback": [
      "\u001b[0;31m---------------------------------------------------------------------------\u001b[0m",
      "\u001b[0;31mIndexError\u001b[0m                                Traceback (most recent call last)",
      "Cell \u001b[0;32mIn[39], line 3\u001b[0m\n\u001b[1;32m      1\u001b[0m \u001b[38;5;66;03m## DELETE\u001b[39;00m\n\u001b[1;32m      2\u001b[0m top_4_makes[(top_4_makes[\u001b[38;5;124m'\u001b[39m\u001b[38;5;124mMake\u001b[39m\u001b[38;5;124m'\u001b[39m]\u001b[38;5;241m==\u001b[39m\u001b[38;5;124m'\u001b[39m\u001b[38;5;124mBombardier\u001b[39m\u001b[38;5;124m'\u001b[39m) \u001b[38;5;241m&\u001b[39m (top_4_makes[\u001b[38;5;124m'\u001b[39m\u001b[38;5;124mNumber_Of_Engines\u001b[39m\u001b[38;5;124m'\u001b[39m] \u001b[38;5;241m==\u001b[39m \u001b[38;5;241m2\u001b[39m) \u001b[38;5;241m&\u001b[39m (top_4_makes[\u001b[38;5;124m'\u001b[39m\u001b[38;5;124mUninjured_Rate\u001b[39m\u001b[38;5;124m'\u001b[39m] \u001b[38;5;241m==\u001b[39m \u001b[38;5;241m2\u001b[39m)]\u001b[38;5;241m.\u001b[39mgroupby([\u001b[38;5;124m'\u001b[39m\u001b[38;5;124mModel\u001b[39m\u001b[38;5;124m'\u001b[39m])[[\u001b[38;5;124m'\u001b[39m\u001b[38;5;124mTotal_Uninjured\u001b[39m\u001b[38;5;124m'\u001b[39m]]\\\n\u001b[0;32m----> 3\u001b[0m     \u001b[38;5;241m.\u001b[39mmean()\u001b[38;5;241m.\u001b[39msort_values(by\u001b[38;5;241m=\u001b[39m\u001b[38;5;124m'\u001b[39m\u001b[38;5;124mTotal_Uninjured\u001b[39m\u001b[38;5;124m'\u001b[39m, ascending\u001b[38;5;241m=\u001b[39m\u001b[38;5;28;01mTrue\u001b[39;00m)\u001b[38;5;241m.\u001b[39mplot(kind\u001b[38;5;241m=\u001b[39m\u001b[38;5;124m'\u001b[39m\u001b[38;5;124mbar\u001b[39m\u001b[38;5;124m'\u001b[39m, stacked\u001b[38;5;241m=\u001b[39m\u001b[38;5;28;01mTrue\u001b[39;00m)\n",
      "File \u001b[0;32m~/anaconda3/lib/python3.11/site-packages/pandas/plotting/_core.py:1031\u001b[0m, in \u001b[0;36mPlotAccessor.__call__\u001b[0;34m(self, *args, **kwargs)\u001b[0m\n\u001b[1;32m   1028\u001b[0m             label_name \u001b[38;5;241m=\u001b[39m label_kw \u001b[38;5;129;01mor\u001b[39;00m data\u001b[38;5;241m.\u001b[39mcolumns\n\u001b[1;32m   1029\u001b[0m             data\u001b[38;5;241m.\u001b[39mcolumns \u001b[38;5;241m=\u001b[39m label_name\n\u001b[0;32m-> 1031\u001b[0m \u001b[38;5;28;01mreturn\u001b[39;00m plot_backend\u001b[38;5;241m.\u001b[39mplot(data, kind\u001b[38;5;241m=\u001b[39mkind, \u001b[38;5;241m*\u001b[39m\u001b[38;5;241m*\u001b[39mkwargs)\n",
      "File \u001b[0;32m~/anaconda3/lib/python3.11/site-packages/pandas/plotting/_matplotlib/__init__.py:71\u001b[0m, in \u001b[0;36mplot\u001b[0;34m(data, kind, **kwargs)\u001b[0m\n\u001b[1;32m     69\u001b[0m         kwargs[\u001b[38;5;124m\"\u001b[39m\u001b[38;5;124max\u001b[39m\u001b[38;5;124m\"\u001b[39m] \u001b[38;5;241m=\u001b[39m \u001b[38;5;28mgetattr\u001b[39m(ax, \u001b[38;5;124m\"\u001b[39m\u001b[38;5;124mleft_ax\u001b[39m\u001b[38;5;124m\"\u001b[39m, ax)\n\u001b[1;32m     70\u001b[0m plot_obj \u001b[38;5;241m=\u001b[39m PLOT_CLASSES[kind](data, \u001b[38;5;241m*\u001b[39m\u001b[38;5;241m*\u001b[39mkwargs)\n\u001b[0;32m---> 71\u001b[0m plot_obj\u001b[38;5;241m.\u001b[39mgenerate()\n\u001b[1;32m     72\u001b[0m plot_obj\u001b[38;5;241m.\u001b[39mdraw()\n\u001b[1;32m     73\u001b[0m \u001b[38;5;28;01mreturn\u001b[39;00m plot_obj\u001b[38;5;241m.\u001b[39mresult\n",
      "File \u001b[0;32m~/anaconda3/lib/python3.11/site-packages/pandas/plotting/_matplotlib/core.py:460\u001b[0m, in \u001b[0;36mMPLPlot.generate\u001b[0;34m(self)\u001b[0m\n\u001b[1;32m    458\u001b[0m \u001b[38;5;28;01mfor\u001b[39;00m ax \u001b[38;5;129;01min\u001b[39;00m \u001b[38;5;28mself\u001b[39m\u001b[38;5;241m.\u001b[39maxes:\n\u001b[1;32m    459\u001b[0m     \u001b[38;5;28mself\u001b[39m\u001b[38;5;241m.\u001b[39m_post_plot_logic_common(ax, \u001b[38;5;28mself\u001b[39m\u001b[38;5;241m.\u001b[39mdata)\n\u001b[0;32m--> 460\u001b[0m     \u001b[38;5;28mself\u001b[39m\u001b[38;5;241m.\u001b[39m_post_plot_logic(ax, \u001b[38;5;28mself\u001b[39m\u001b[38;5;241m.\u001b[39mdata)\n",
      "File \u001b[0;32m~/anaconda3/lib/python3.11/site-packages/pandas/plotting/_matplotlib/core.py:1757\u001b[0m, in \u001b[0;36mBarPlot._post_plot_logic\u001b[0;34m(self, ax, data)\u001b[0m\n\u001b[1;32m   1754\u001b[0m \u001b[38;5;28;01melse\u001b[39;00m:\n\u001b[1;32m   1755\u001b[0m     str_index \u001b[38;5;241m=\u001b[39m [pprint_thing(key) \u001b[38;5;28;01mfor\u001b[39;00m key \u001b[38;5;129;01min\u001b[39;00m \u001b[38;5;28mrange\u001b[39m(data\u001b[38;5;241m.\u001b[39mshape[\u001b[38;5;241m0\u001b[39m])]\n\u001b[0;32m-> 1757\u001b[0m s_edge \u001b[38;5;241m=\u001b[39m \u001b[38;5;28mself\u001b[39m\u001b[38;5;241m.\u001b[39max_pos[\u001b[38;5;241m0\u001b[39m] \u001b[38;5;241m-\u001b[39m \u001b[38;5;241m0.25\u001b[39m \u001b[38;5;241m+\u001b[39m \u001b[38;5;28mself\u001b[39m\u001b[38;5;241m.\u001b[39mlim_offset\n\u001b[1;32m   1758\u001b[0m e_edge \u001b[38;5;241m=\u001b[39m \u001b[38;5;28mself\u001b[39m\u001b[38;5;241m.\u001b[39max_pos[\u001b[38;5;241m-\u001b[39m\u001b[38;5;241m1\u001b[39m] \u001b[38;5;241m+\u001b[39m \u001b[38;5;241m0.25\u001b[39m \u001b[38;5;241m+\u001b[39m \u001b[38;5;28mself\u001b[39m\u001b[38;5;241m.\u001b[39mbar_width \u001b[38;5;241m+\u001b[39m \u001b[38;5;28mself\u001b[39m\u001b[38;5;241m.\u001b[39mlim_offset\n\u001b[1;32m   1760\u001b[0m \u001b[38;5;28mself\u001b[39m\u001b[38;5;241m.\u001b[39m_decorate_ticks(ax, \u001b[38;5;28mself\u001b[39m\u001b[38;5;241m.\u001b[39m_get_index_name(), str_index, s_edge, e_edge)\n",
      "\u001b[0;31mIndexError\u001b[0m: index 0 is out of bounds for axis 0 with size 0"
     ]
    },
    {
     "data": {
      "image/png": "[encoded data removed]",
      "text/plain": [
       "<Figure size 640x480 with 1 Axes>"
      ]
     },
     "metadata": {},
     "output_type": "display_data"
    }
   ],
   "source": [
    "## DELETE\n",
    "top_4_makes[(top_4_makes['Make']=='Bombardier') & (top_4_makes['Number_Of_Engines'] == 2) & (top_4_makes['Uninjured_Rate'] == 2)].groupby(['Model'])[['Total_Uninjured']]\\\n",
    "    .mean().sort_values(by='Total_Uninjured', ascending=True).plot(kind='bar', stacked=True)"
   ]
  },
  {
   "cell_type": "markdown",
   "id": "8226550e-5468-4061-b8bc-96fb2d5ab00e",
   "metadata": {},
   "source": [
    "# Conclusions"
   ]
  },
  {
   "cell_type": "markdown",
   "id": "02d6cf9d-1e5e-46c1-9b71-aeaf42136420",
   "metadata": {},
   "source": [
    "## Limitations"
   ]
  },
  {
   "cell_type": "markdown",
   "id": "41abbad3-0b8a-4abc-9f65-9fe7653ab79d",
   "metadata": {},
   "source": [
    "There are various limitations in this analysis.\n",
    "\n",
    "1. I could not compute the **proportion of accidents to total number of flights**, as this data includes only records of accidents or incidents. This data does not include clean records of flights with no accidents or incidents. When recommending an aircraft company, aircraft model, or location of operation, I used the basis of which has the lowest number of accidents/incidents, with zero accidents/incidents not being an option.\n",
    "\n",
    "2. I chose a **specific aircraft model** out of a list of the 8 safest models based on the number of occurrences in the data under the assumption that more occurrences equates to higher popularity of an aircraft. Alternatively, more occurrences can indicate an aircraft that has a high accident ratio. This would have to be calculated using a dataset of *all* flights, not just those with accident (as mentioned above). However, a better interpretation is that more accidents are due to more total flights. This is likely because the list of 8 aircrafts have already been determined to be the safest out of the dataset."
   ]
  },
  {
   "cell_type": "markdown",
   "id": "e53aa9cb-61e1-4508-ad34-c1b8a49539d5",
   "metadata": {},
   "source": [
    "## Recommendations"
   ]
  },
  {
   "cell_type": "markdown",
   "id": "3fd470d1-5967-46e0-b556-990d8e88e3dd",
   "metadata": {},
   "source": [
    "This analysis has led me to conclude the following three recommendations: \n",
    "1. **Bombardier** is the aircraft manufacturer that I suggest we purchase. Bombardier has overall the least average number of injuries and the highest unijured rate when compared to Airbus, Boeing and Embraer.\n",
    "\n",
    "2. I recommend we purchase a Bombardier aircraft with **2 engines**. Bombardier aircrafts only come with 1 or 2 engines. According to the data, 2-engine aircrafts have a *lower* fatality rate and a *higher* uninjured rate than 1-engine aircrafts.\n",
    "\n",
    "3. The aircraft model of our first purchase should be a **CL-600**. This model is among Bombardier's safest 2-engine aircraft. It is a popular model, as it has the highest count among those safest aircrafts."
   ]
  },
  {
   "cell_type": "markdown",
   "id": "8c048448-1e6d-49e5-8c52-b32883100d0c",
   "metadata": {},
   "source": [
    "## Next Steps"
   ]
  },
  {
   "cell_type": "markdown",
   "id": "177f9903-cd61-488b-bb5f-22d8a39411c6",
   "metadata": {},
   "source": [
    "In order to optimize ***profits*** for this new industry expansion, we must analyze the financial aspects by answering the following three questions: \n",
    "\n",
    "1. What **flight schedule** will provide the greatest profit? Consider seasonal, weekly, and daily schedules. \n",
    "\n",
    "2. **How many aircrafts** should we initially purchase? Consider *cost* of aircraft and operation of such aircraft.\n",
    "\n",
    "3. What **location** should we operate out of? Consider chances of interrupted flight due to *weather*."
   ]
  }
 ],
 "metadata": {
  "kernelspec": {
   "display_name": "Python 3 (ipykernel)",
   "language": "python",
   "name": "python3"
  },
  "language_info": {
   "codemirror_mode": {
    "name": "ipython",
    "version": 3
   },
   "file_extension": ".py",
   "mimetype": "text/x-python",
   "name": "python",
   "nbconvert_exporter": "python",
   "pygments_lexer": "ipython3",
   "version": "3.11.5"
  }
 },
 "nbformat": 4,
 "nbformat_minor": 5
}
