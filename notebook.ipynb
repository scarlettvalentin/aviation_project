{
 "cells": [
  {
   "cell_type": "markdown",
   "id": "788f13b7-2567-4e99-9caa-4d92342c694b",
   "metadata": {},
   "source": [
    "# Business Understanding"
   ]
  },
  {
   "cell_type": "markdown",
   "id": "9f22fd97-3606-4abf-8a3c-9b9f2749daa1",
   "metadata": {},
   "source": [
    "Our company is expanding by purchasing and operating airplanes for commercial and private enterprises. In this analysis, I determine which aircraft are the lowest risk for the company to start this new business endeavor. I use the fatal injuries rate as a meaure of safety and investigate the effect the make and model of the aircraft, the number of engines, and the location have on the fatal injuries rate.\n",
    "\n",
    "I investigate the following three business questions:\n",
    "1. What number of engines is least likely to result in a fatal injury?\n",
    "2. What is the safest aircraft model?\n",
    "3. What is the safest location to operate out of?"
   ]
  },
  {
   "cell_type": "markdown",
   "id": "9792175e-d5f4-495f-816d-8092662f8f9c",
   "metadata": {},
   "source": [
    "# Data Understanding"
   ]
  },
  {
   "cell_type": "markdown",
   "id": "d8c7276e-e004-4e21-a8be-fa8d36e1a443",
   "metadata": {},
   "source": [
    "The [Aviation Accident Database & Synopses, up to 2023](https://www.kaggle.com/datasets/khsamaha/aviation-accident-database-synopses/data) from the NTSB (National Transportation Safety Board) aviation accident database contains information about ​civil aviation accidents and selected incidents that occurred between 1962 and 2023 within the United States, its territories and possessions, and in international waters. From this database, I analyze the fatal injuries rate, the make/model of the aircrafts, the number of engines on the aircrafts, and the location of the incidents to determine the  safest aircraft to purchase."
   ]
  },
  {
   "cell_type": "code",
   "execution_count": 1,
   "id": "8974fd94-e195-483d-8045-e3f4d7b74496",
   "metadata": {},
   "outputs": [],
   "source": [
    "import pandas as pd\n",
    "import numpy as np\n",
    "import matplotlib.pyplot as plt\n",
    "import seaborn as sns"
   ]
  },
  {
   "cell_type": "code",
   "execution_count": 2,
   "id": "3ccec05c-5709-4633-9a7d-82c3b762d0fe",
   "metadata": {},
   "outputs": [
    {
     "name": "stderr",
     "output_type": "stream",
     "text": [
      "/var/folders/pn/v9tvzf9s5ms7zcp53821ct0m0000gn/T/ipykernel_16668/3544946329.py:1: DtypeWarning: Columns (6,7,28) have mixed types. Specify dtype option on import or set low_memory=False.\n",
      "  aviation_df = pd.read_csv('AviationData.csv', encoding='latin')\n"
     ]
    }
   ],
   "source": [
    "aviation_df = pd.read_csv('AviationData.csv', encoding='latin')"
   ]
  },
  {
   "cell_type": "markdown",
   "id": "0c655f78-4437-46a4-a06d-1f04d8762fd3",
   "metadata": {},
   "source": [
    "## Data Preparation"
   ]
  },
  {
   "cell_type": "markdown",
   "id": "b28cd3f4-ee44-43c0-aa00-acef39f268bd",
   "metadata": {},
   "source": [
    "The dataset has approxiately 89,000 accidents and incidents. All but 4 columns have varyign numbers of null values. There are approximately 28,000 unique locations and 8,000 unique makes. These will have to be greatly narrowed down to determine 3 recommended locations and 3 recommended aircrafts."
   ]
  },
  {
   "cell_type": "code",
   "execution_count": 3,
   "id": "eeee7a88-0abd-47ff-9710-933c04bd908c",
   "metadata": {},
   "outputs": [
    {
     "data": {
      "text/html": [
       "<div>\n",
       "<style scoped>\n",
       "    .dataframe tbody tr th:only-of-type {\n",
       "        vertical-align: middle;\n",
       "    }\n",
       "\n",
       "    .dataframe tbody tr th {\n",
       "        vertical-align: top;\n",
       "    }\n",
       "\n",
       "    .dataframe thead th {\n",
       "        text-align: right;\n",
       "    }\n",
       "</style>\n",
       "<table border=\"1\" class=\"dataframe\">\n",
       "  <thead>\n",
       "    <tr style=\"text-align: right;\">\n",
       "      <th></th>\n",
       "      <th>Event.Id</th>\n",
       "      <th>Investigation.Type</th>\n",
       "      <th>Accident.Number</th>\n",
       "      <th>Event.Date</th>\n",
       "      <th>Location</th>\n",
       "      <th>Country</th>\n",
       "      <th>Latitude</th>\n",
       "      <th>Longitude</th>\n",
       "      <th>Airport.Code</th>\n",
       "      <th>Airport.Name</th>\n",
       "      <th>...</th>\n",
       "      <th>Purpose.of.flight</th>\n",
       "      <th>Air.carrier</th>\n",
       "      <th>Total.Fatal.Injuries</th>\n",
       "      <th>Total.Serious.Injuries</th>\n",
       "      <th>Total.Minor.Injuries</th>\n",
       "      <th>Total.Uninjured</th>\n",
       "      <th>Weather.Condition</th>\n",
       "      <th>Broad.phase.of.flight</th>\n",
       "      <th>Report.Status</th>\n",
       "      <th>Publication.Date</th>\n",
       "    </tr>\n",
       "  </thead>\n",
       "  <tbody>\n",
       "    <tr>\n",
       "      <th>0</th>\n",
       "      <td>20001218X45444</td>\n",
       "      <td>Accident</td>\n",
       "      <td>SEA87LA080</td>\n",
       "      <td>1948-10-24</td>\n",
       "      <td>MOOSE CREEK, ID</td>\n",
       "      <td>United States</td>\n",
       "      <td>NaN</td>\n",
       "      <td>NaN</td>\n",
       "      <td>NaN</td>\n",
       "      <td>NaN</td>\n",
       "      <td>...</td>\n",
       "      <td>Personal</td>\n",
       "      <td>NaN</td>\n",
       "      <td>2.0</td>\n",
       "      <td>0.0</td>\n",
       "      <td>0.0</td>\n",
       "      <td>0.0</td>\n",
       "      <td>UNK</td>\n",
       "      <td>Cruise</td>\n",
       "      <td>Probable Cause</td>\n",
       "      <td>NaN</td>\n",
       "    </tr>\n",
       "    <tr>\n",
       "      <th>1</th>\n",
       "      <td>20001218X45447</td>\n",
       "      <td>Accident</td>\n",
       "      <td>LAX94LA336</td>\n",
       "      <td>1962-07-19</td>\n",
       "      <td>BRIDGEPORT, CA</td>\n",
       "      <td>United States</td>\n",
       "      <td>NaN</td>\n",
       "      <td>NaN</td>\n",
       "      <td>NaN</td>\n",
       "      <td>NaN</td>\n",
       "      <td>...</td>\n",
       "      <td>Personal</td>\n",
       "      <td>NaN</td>\n",
       "      <td>4.0</td>\n",
       "      <td>0.0</td>\n",
       "      <td>0.0</td>\n",
       "      <td>0.0</td>\n",
       "      <td>UNK</td>\n",
       "      <td>Unknown</td>\n",
       "      <td>Probable Cause</td>\n",
       "      <td>19-09-1996</td>\n",
       "    </tr>\n",
       "    <tr>\n",
       "      <th>2</th>\n",
       "      <td>20061025X01555</td>\n",
       "      <td>Accident</td>\n",
       "      <td>NYC07LA005</td>\n",
       "      <td>1974-08-30</td>\n",
       "      <td>Saltville, VA</td>\n",
       "      <td>United States</td>\n",
       "      <td>36.922223</td>\n",
       "      <td>-81.878056</td>\n",
       "      <td>NaN</td>\n",
       "      <td>NaN</td>\n",
       "      <td>...</td>\n",
       "      <td>Personal</td>\n",
       "      <td>NaN</td>\n",
       "      <td>3.0</td>\n",
       "      <td>NaN</td>\n",
       "      <td>NaN</td>\n",
       "      <td>NaN</td>\n",
       "      <td>IMC</td>\n",
       "      <td>Cruise</td>\n",
       "      <td>Probable Cause</td>\n",
       "      <td>26-02-2007</td>\n",
       "    </tr>\n",
       "    <tr>\n",
       "      <th>3</th>\n",
       "      <td>20001218X45448</td>\n",
       "      <td>Accident</td>\n",
       "      <td>LAX96LA321</td>\n",
       "      <td>1977-06-19</td>\n",
       "      <td>EUREKA, CA</td>\n",
       "      <td>United States</td>\n",
       "      <td>NaN</td>\n",
       "      <td>NaN</td>\n",
       "      <td>NaN</td>\n",
       "      <td>NaN</td>\n",
       "      <td>...</td>\n",
       "      <td>Personal</td>\n",
       "      <td>NaN</td>\n",
       "      <td>2.0</td>\n",
       "      <td>0.0</td>\n",
       "      <td>0.0</td>\n",
       "      <td>0.0</td>\n",
       "      <td>IMC</td>\n",
       "      <td>Cruise</td>\n",
       "      <td>Probable Cause</td>\n",
       "      <td>12-09-2000</td>\n",
       "    </tr>\n",
       "    <tr>\n",
       "      <th>4</th>\n",
       "      <td>20041105X01764</td>\n",
       "      <td>Accident</td>\n",
       "      <td>CHI79FA064</td>\n",
       "      <td>1979-08-02</td>\n",
       "      <td>Canton, OH</td>\n",
       "      <td>United States</td>\n",
       "      <td>NaN</td>\n",
       "      <td>NaN</td>\n",
       "      <td>NaN</td>\n",
       "      <td>NaN</td>\n",
       "      <td>...</td>\n",
       "      <td>Personal</td>\n",
       "      <td>NaN</td>\n",
       "      <td>1.0</td>\n",
       "      <td>2.0</td>\n",
       "      <td>NaN</td>\n",
       "      <td>0.0</td>\n",
       "      <td>VMC</td>\n",
       "      <td>Approach</td>\n",
       "      <td>Probable Cause</td>\n",
       "      <td>16-04-1980</td>\n",
       "    </tr>\n",
       "  </tbody>\n",
       "</table>\n",
       "<p>5 rows × 31 columns</p>\n",
       "</div>"
      ],
      "text/plain": [
       "         Event.Id Investigation.Type Accident.Number  Event.Date  \\\n",
       "0  20001218X45444           Accident      SEA87LA080  1948-10-24   \n",
       "1  20001218X45447           Accident      LAX94LA336  1962-07-19   \n",
       "2  20061025X01555           Accident      NYC07LA005  1974-08-30   \n",
       "3  20001218X45448           Accident      LAX96LA321  1977-06-19   \n",
       "4  20041105X01764           Accident      CHI79FA064  1979-08-02   \n",
       "\n",
       "          Location        Country   Latitude  Longitude Airport.Code  \\\n",
       "0  MOOSE CREEK, ID  United States        NaN        NaN          NaN   \n",
       "1   BRIDGEPORT, CA  United States        NaN        NaN          NaN   \n",
       "2    Saltville, VA  United States  36.922223 -81.878056          NaN   \n",
       "3       EUREKA, CA  United States        NaN        NaN          NaN   \n",
       "4       Canton, OH  United States        NaN        NaN          NaN   \n",
       "\n",
       "  Airport.Name  ... Purpose.of.flight Air.carrier Total.Fatal.Injuries  \\\n",
       "0          NaN  ...          Personal         NaN                  2.0   \n",
       "1          NaN  ...          Personal         NaN                  4.0   \n",
       "2          NaN  ...          Personal         NaN                  3.0   \n",
       "3          NaN  ...          Personal         NaN                  2.0   \n",
       "4          NaN  ...          Personal         NaN                  1.0   \n",
       "\n",
       "  Total.Serious.Injuries Total.Minor.Injuries Total.Uninjured  \\\n",
       "0                    0.0                  0.0             0.0   \n",
       "1                    0.0                  0.0             0.0   \n",
       "2                    NaN                  NaN             NaN   \n",
       "3                    0.0                  0.0             0.0   \n",
       "4                    2.0                  NaN             0.0   \n",
       "\n",
       "  Weather.Condition  Broad.phase.of.flight   Report.Status Publication.Date  \n",
       "0               UNK                 Cruise  Probable Cause              NaN  \n",
       "1               UNK                Unknown  Probable Cause       19-09-1996  \n",
       "2               IMC                 Cruise  Probable Cause       26-02-2007  \n",
       "3               IMC                 Cruise  Probable Cause       12-09-2000  \n",
       "4               VMC               Approach  Probable Cause       16-04-1980  \n",
       "\n",
       "[5 rows x 31 columns]"
      ]
     },
     "execution_count": 3,
     "metadata": {},
     "output_type": "execute_result"
    }
   ],
   "source": [
    "aviation_df.head()"
   ]
  },
  {
   "cell_type": "code",
   "execution_count": 4,
   "id": "158b477d-48d8-45c9-b597-967c25ca8b30",
   "metadata": {},
   "outputs": [
    {
     "name": "stdout",
     "output_type": "stream",
     "text": [
      "<class 'pandas.core.frame.DataFrame'>\n",
      "RangeIndex: 88889 entries, 0 to 88888\n",
      "Data columns (total 31 columns):\n",
      " #   Column                  Non-Null Count  Dtype  \n",
      "---  ------                  --------------  -----  \n",
      " 0   Event.Id                88889 non-null  object \n",
      " 1   Investigation.Type      88889 non-null  object \n",
      " 2   Accident.Number         88889 non-null  object \n",
      " 3   Event.Date              88889 non-null  object \n",
      " 4   Location                88837 non-null  object \n",
      " 5   Country                 88663 non-null  object \n",
      " 6   Latitude                34382 non-null  object \n",
      " 7   Longitude               34373 non-null  object \n",
      " 8   Airport.Code            50132 non-null  object \n",
      " 9   Airport.Name            52704 non-null  object \n",
      " 10  Injury.Severity         87889 non-null  object \n",
      " 11  Aircraft.damage         85695 non-null  object \n",
      " 12  Aircraft.Category       32287 non-null  object \n",
      " 13  Registration.Number     87507 non-null  object \n",
      " 14  Make                    88826 non-null  object \n",
      " 15  Model                   88797 non-null  object \n",
      " 16  Amateur.Built           88787 non-null  object \n",
      " 17  Number.of.Engines       82805 non-null  float64\n",
      " 18  Engine.Type             81793 non-null  object \n",
      " 19  FAR.Description         32023 non-null  object \n",
      " 20  Schedule                12582 non-null  object \n",
      " 21  Purpose.of.flight       82697 non-null  object \n",
      " 22  Air.carrier             16648 non-null  object \n",
      " 23  Total.Fatal.Injuries    77488 non-null  float64\n",
      " 24  Total.Serious.Injuries  76379 non-null  float64\n",
      " 25  Total.Minor.Injuries    76956 non-null  float64\n",
      " 26  Total.Uninjured         82977 non-null  float64\n",
      " 27  Weather.Condition       84397 non-null  object \n",
      " 28  Broad.phase.of.flight   61724 non-null  object \n",
      " 29  Report.Status           82505 non-null  object \n",
      " 30  Publication.Date        75118 non-null  object \n",
      "dtypes: float64(5), object(26)\n",
      "memory usage: 21.0+ MB\n"
     ]
    }
   ],
   "source": [
    "aviation_df.info()"
   ]
  },
  {
   "cell_type": "code",
   "execution_count": 5,
   "id": "71ff5dbf-5ca0-4ec3-9775-eafd38b67966",
   "metadata": {},
   "outputs": [
    {
     "data": {
      "text/plain": [
       "Event.Id                      0\n",
       "Investigation.Type            0\n",
       "Accident.Number               0\n",
       "Event.Date                    0\n",
       "Location                     52\n",
       "Country                     226\n",
       "Latitude                  54507\n",
       "Longitude                 54516\n",
       "Airport.Code              38757\n",
       "Airport.Name              36185\n",
       "Injury.Severity            1000\n",
       "Aircraft.damage            3194\n",
       "Aircraft.Category         56602\n",
       "Registration.Number        1382\n",
       "Make                         63\n",
       "Model                        92\n",
       "Amateur.Built               102\n",
       "Number.of.Engines          6084\n",
       "Engine.Type                7096\n",
       "FAR.Description           56866\n",
       "Schedule                  76307\n",
       "Purpose.of.flight          6192\n",
       "Air.carrier               72241\n",
       "Total.Fatal.Injuries      11401\n",
       "Total.Serious.Injuries    12510\n",
       "Total.Minor.Injuries      11933\n",
       "Total.Uninjured            5912\n",
       "Weather.Condition          4492\n",
       "Broad.phase.of.flight     27165\n",
       "Report.Status              6384\n",
       "Publication.Date          13771\n",
       "dtype: int64"
      ]
     },
     "execution_count": 5,
     "metadata": {},
     "output_type": "execute_result"
    }
   ],
   "source": [
    "# Count of how many null values are in each column\n",
    "aviation_df.isnull().sum()"
   ]
  },
  {
   "cell_type": "code",
   "execution_count": 6,
   "id": "065b1e6e-a631-44a9-869d-7342b0bd400f",
   "metadata": {},
   "outputs": [
    {
     "data": {
      "text/plain": [
       "27758"
      ]
     },
     "execution_count": 6,
     "metadata": {},
     "output_type": "execute_result"
    }
   ],
   "source": [
    "# Number of options for cities\n",
    "aviation_df['Location'].nunique()"
   ]
  },
  {
   "cell_type": "code",
   "execution_count": 7,
   "id": "81133a43-8042-46bd-8517-0fd3f346a1c3",
   "metadata": {},
   "outputs": [
    {
     "data": {
      "text/plain": [
       "8237"
      ]
     },
     "execution_count": 7,
     "metadata": {},
     "output_type": "execute_result"
    }
   ],
   "source": [
    "aviation_df['Make'].nunique()"
   ]
  },
  {
   "cell_type": "code",
   "execution_count": 8,
   "id": "31b41ff2-aa28-4bdd-92f6-b0ae22ed68c8",
   "metadata": {},
   "outputs": [
    {
     "name": "stdout",
     "output_type": "stream",
     "text": [
      "Event.Id \n",
      " Event.Id\n",
      "20001212X19172    0.000034\n",
      "20001214X45071    0.000034\n",
      "20220730105623    0.000022\n",
      "20051213X01965    0.000022\n",
      "20001212X16765    0.000022\n",
      "Name: proportion, dtype: float64 \n",
      "\n",
      "\n",
      "Investigation.Type \n",
      " Investigation.Type\n",
      "Accident    0.956418\n",
      "Incident    0.043582\n",
      "Name: proportion, dtype: float64 \n",
      "\n",
      "\n",
      "Accident.Number \n",
      " Accident.Number\n",
      "CEN22LA149    0.000022\n",
      "WPR23LA041    0.000022\n",
      "WPR23LA045    0.000022\n",
      "DCA22WA214    0.000022\n",
      "DCA22WA089    0.000022\n",
      "Name: proportion, dtype: float64 \n",
      "\n",
      "\n",
      "Event.Date \n",
      " Event.Date\n",
      "1984-06-30    0.000281\n",
      "1982-05-16    0.000281\n",
      "2000-07-08    0.000281\n",
      "1983-08-05    0.000270\n",
      "1984-08-25    0.000270\n",
      "Name: proportion, dtype: float64 \n",
      "\n",
      "\n",
      "Location \n",
      " Location\n",
      "ANCHORAGE, AK      0.004885\n",
      "MIAMI, FL          0.002251\n",
      "ALBUQUERQUE, NM    0.002206\n",
      "HOUSTON, TX        0.002173\n",
      "CHICAGO, IL        0.002071\n",
      "Name: proportion, dtype: float64 \n",
      "\n",
      "\n",
      "Country \n",
      " Country\n",
      "United States     0.927647\n",
      "Brazil            0.004218\n",
      "Canada            0.004049\n",
      "Mexico            0.004038\n",
      "United Kingdom    0.003880\n",
      "Name: proportion, dtype: float64 \n",
      "\n",
      "\n",
      "Latitude \n",
      " Latitude\n",
      "332739N      0.000553\n",
      "335219N      0.000524\n",
      "334118N      0.000494\n",
      "32.815556    0.000494\n",
      "324934N      0.000465\n",
      "Name: proportion, dtype: float64 \n",
      "\n",
      "\n",
      "Longitude \n",
      " Longitude\n",
      "0112457W       0.000698\n",
      "1114342W       0.000524\n",
      "1151140W       0.000495\n",
      "-104.673056    0.000495\n",
      "1114840W       0.000465\n",
      "Name: proportion, dtype: float64 \n",
      "\n",
      "\n",
      "Airport.Code \n",
      " Airport.Code\n",
      "NONE    0.029682\n",
      "PVT     0.009674\n",
      "APA     0.003192\n",
      "ORD     0.002972\n",
      "MRI     0.002733\n",
      "Name: proportion, dtype: float64 \n",
      "\n",
      "\n",
      "Airport.Name \n",
      " Airport.Name\n",
      "Private             0.004554\n",
      "PRIVATE             0.004250\n",
      "Private Airstrip    0.002903\n",
      "NONE                0.002770\n",
      "PRIVATE STRIP       0.002106\n",
      "Name: proportion, dtype: float64 \n",
      "\n",
      "\n",
      "Injury.Severity \n",
      " Injury.Severity\n",
      "Non-Fatal    0.766387\n",
      "Fatal(1)     0.070168\n",
      "Fatal        0.059871\n",
      "Fatal(2)     0.042224\n",
      "Incident     0.025248\n",
      "Name: proportion, dtype: float64 \n",
      "\n",
      "\n",
      "Aircraft.damage \n",
      " Aircraft.damage\n",
      "Substantial    0.748562\n",
      "Destroyed      0.217317\n",
      "Minor          0.032732\n",
      "Unknown        0.001389\n",
      "Name: proportion, dtype: float64 \n",
      "\n",
      "\n",
      "Aircraft.Category \n",
      " Aircraft.Category\n",
      "Airplane      0.855360\n",
      "Helicopter    0.106544\n",
      "Glider        0.015734\n",
      "Balloon       0.007155\n",
      "Gyrocraft     0.005358\n",
      "Name: proportion, dtype: float64 \n",
      "\n",
      "\n",
      "Registration.Number \n",
      " Registration.Number\n",
      "NONE      0.003931\n",
      "UNREG     0.001440\n",
      "UNK       0.000149\n",
      "USAF      0.000103\n",
      "N20752    0.000091\n",
      "Name: proportion, dtype: float64 \n",
      "\n",
      "\n",
      "Make \n",
      " Make\n",
      "Cessna    0.250231\n",
      "Piper     0.135422\n",
      "CESSNA    0.055412\n",
      "Beech     0.048747\n",
      "PIPER     0.031984\n",
      "Name: proportion, dtype: float64 \n",
      "\n",
      "\n",
      "Model \n",
      " Model\n",
      "152          0.026656\n",
      "172          0.019775\n",
      "172N         0.013109\n",
      "PA-28-140    0.010496\n",
      "150          0.009336\n",
      "Name: proportion, dtype: float64 \n",
      "\n",
      "\n",
      "Amateur.Built \n",
      " Amateur.Built\n",
      "No     0.904547\n",
      "Yes    0.095453\n",
      "Name: proportion, dtype: float64 \n",
      "\n",
      "\n",
      "Number.of.Engines \n",
      " Number.of.Engines\n",
      "1.0    0.840312\n",
      "2.0    0.133796\n",
      "0.0    0.014806\n",
      "3.0    0.005833\n",
      "4.0    0.005205\n",
      "Name: proportion, dtype: float64 \n",
      "\n",
      "\n",
      "Engine.Type \n",
      " Engine.Type\n",
      "Reciprocating    0.850073\n",
      "Turbo Shaft      0.044124\n",
      "Turbo Prop       0.041458\n",
      "Turbo Fan        0.030333\n",
      "Unknown          0.025075\n",
      "Name: proportion, dtype: float64 \n",
      "\n",
      "\n",
      "FAR.Description \n",
      " FAR.Description\n",
      "091                          0.568997\n",
      "Part 91: General Aviation    0.202542\n",
      "NUSN                         0.049464\n",
      "NUSC                         0.031634\n",
      "137                          0.031540\n",
      "Name: proportion, dtype: float64 \n",
      "\n",
      "\n",
      "Schedule \n",
      " Schedule\n",
      "NSCH    0.355587\n",
      "UNK     0.325783\n",
      "SCHD    0.318630\n",
      "Name: proportion, dtype: float64 \n",
      "\n",
      "\n",
      "Purpose.of.flight \n",
      " Purpose.of.flight\n",
      "Personal              0.597942\n",
      "Instructional         0.128191\n",
      "Unknown               0.082252\n",
      "Aerial Application    0.056979\n",
      "Business              0.048587\n",
      "Name: proportion, dtype: float64 \n",
      "\n",
      "\n",
      "Air.carrier \n",
      " Air.carrier\n",
      "Pilot                    0.015497\n",
      "American Airlines        0.005406\n",
      "United Airlines          0.005346\n",
      "Delta Air Lines          0.003184\n",
      "SOUTHWEST AIRLINES CO    0.002523\n",
      "Name: proportion, dtype: float64 \n",
      "\n",
      "\n",
      "Total.Fatal.Injuries \n",
      " Total.Fatal.Injuries\n",
      "0.0    0.770119\n",
      "1.0    0.114637\n",
      "2.0    0.066759\n",
      "3.0    0.020506\n",
      "4.0    0.014234\n",
      "Name: proportion, dtype: float64 \n",
      "\n",
      "\n",
      "Total.Serious.Injuries \n",
      " Total.Serious.Injuries\n",
      "0.0    0.828618\n",
      "1.0    0.119470\n",
      "2.0    0.036856\n",
      "3.0    0.008235\n",
      "4.0    0.003378\n",
      "Name: proportion, dtype: float64 \n",
      "\n",
      "\n",
      "Total.Minor.Injuries \n",
      " Total.Minor.Injuries\n",
      "0.0    0.798560\n",
      "1.0    0.134103\n",
      "2.0    0.046468\n",
      "3.0    0.010188\n",
      "4.0    0.004834\n",
      "Name: proportion, dtype: float64 \n",
      "\n",
      "\n",
      "Total.Uninjured \n",
      " Total.Uninjured\n",
      "0.0    0.360088\n",
      "1.0    0.302506\n",
      "2.0    0.192680\n",
      "3.0    0.051978\n",
      "4.0    0.032081\n",
      "Name: proportion, dtype: float64 \n",
      "\n",
      "\n",
      "Weather.Condition \n",
      " Weather.Condition\n",
      "VMC    0.915945\n",
      "IMC    0.070808\n",
      "UNK    0.010143\n",
      "Unk    0.003104\n",
      "Name: proportion, dtype: float64 \n",
      "\n",
      "\n",
      "Broad.phase.of.flight \n",
      " Broad.phase.of.flight\n",
      "Landing        0.249951\n",
      "Takeoff        0.202401\n",
      "Cruise         0.166370\n",
      "Maneuvering    0.131942\n",
      "Approach       0.106053\n",
      "Name: proportion, dtype: float64 \n",
      "\n",
      "\n",
      "Report.Status \n",
      " Report.Status\n",
      "Probable Cause                                                                  0.748488\n",
      "Foreign                                                                         0.024229\n",
      "<br /><br />                                                                    0.002024\n",
      "Factual                                                                         0.001757\n",
      "The pilot's failure to maintain directional control during the landing roll.    0.000679\n",
      "Name: proportion, dtype: float64 \n",
      "\n",
      "\n",
      "Publication.Date \n",
      " Publication.Date\n",
      "25-09-2020    0.226564\n",
      "26-09-2020    0.023550\n",
      "03-11-2020    0.015376\n",
      "31-03-1993    0.006017\n",
      "25-11-2003    0.005272\n",
      "Name: proportion, dtype: float64 \n",
      "\n",
      "\n"
     ]
    }
   ],
   "source": [
    "# Print a count of the top 5 values in each column\n",
    "for col in aviation_df.columns:\n",
    "    print(col, '\\n', aviation_df[col].value_counts(normalize=True).head(), '\\n\\n')"
   ]
  },
  {
   "cell_type": "markdown",
   "id": "1dcb7a4a-e9cd-44f1-b9b6-3037de00fcc8",
   "metadata": {},
   "source": [
    "## Data Cleaning"
   ]
  },
  {
   "cell_type": "markdown",
   "id": "3ade41a9-e4f8-4568-a597-dd6349140eaf",
   "metadata": {},
   "source": [
    "Before beginning any type of analysis, I must clean the dataset. \n",
    "1. I check for **duplicates** (there are none).\n",
    "2. I **drop columns** that will not be useful to my analysis.\n",
    "3. I standardize the **column names** and **make names**. \n",
    "4. I **create 3 more columns** that will be useful during the analysis: Total_Passengers, Fatal_Injuries_Rate, Uninjured_Rate.\n",
    "5. I **drop na's** from columns that include number or rates of injuries, fatalities or uninjured because without those numbers, I will not be able to determine safety."
   ]
  },
  {
   "cell_type": "code",
   "execution_count": 9,
   "id": "f075c704-21c8-44a0-884d-3dab9c94f247",
   "metadata": {},
   "outputs": [],
   "source": [
    "# Make a copy of the dataset to clean\n",
    "aviation_clean = aviation_df.copy()"
   ]
  },
  {
   "cell_type": "code",
   "execution_count": 10,
   "id": "ef4193b6-1391-4bff-810a-a0ab2b2e09ac",
   "metadata": {
    "scrolled": true
   },
   "outputs": [
    {
     "data": {
      "text/plain": [
       "0"
      ]
     },
     "execution_count": 10,
     "metadata": {},
     "output_type": "execute_result"
    }
   ],
   "source": [
    "# No duplicates\n",
    "duplicates = aviation_clean[aviation_clean.duplicated()]\n",
    "len(duplicates)"
   ]
  },
  {
   "cell_type": "code",
   "execution_count": null,
   "id": "83f6322a-9b07-4923-b4df-277d51e313ac",
   "metadata": {},
   "outputs": [],
   "source": [
    "# Clean column names by replacing '.' in column names with '_'\n",
    "aviation_clean.columns = aviation_clean.columns.map(lambda x: x.replace('.', '_',).title())"
   ]
  },
  {
   "cell_type": "code",
   "execution_count": null,
   "id": "e26a3c9e-7800-4569-a5fa-2847bbea0a67",
   "metadata": {},
   "outputs": [],
   "source": [
    "# Rewrite makes in title case\n",
    "aviation_clean['Make'] = aviation_clean['Make'].map(lambda x: str(x).title())"
   ]
  },
  {
   "cell_type": "code",
   "execution_count": 11,
   "id": "687d4bd3-fdbe-4a4c-b8e9-0894c0445301",
   "metadata": {},
   "outputs": [
    {
     "ename": "KeyError",
     "evalue": "\"['Air_Carrier', 'Aircraft_Category', 'Far_Description'] not found in axis\"",
     "output_type": "error",
     "traceback": [
      "\u001b[0;31m---------------------------------------------------------------------------\u001b[0m",
      "\u001b[0;31mKeyError\u001b[0m                                  Traceback (most recent call last)",
      "Cell \u001b[0;32mIn[11], line 1\u001b[0m\n\u001b[0;32m----> 1\u001b[0m aviation_clean\u001b[38;5;241m.\u001b[39mdrop(columns\u001b[38;5;241m=\u001b[39m[\u001b[38;5;124m'\u001b[39m\u001b[38;5;124mLatitude\u001b[39m\u001b[38;5;124m'\u001b[39m, \u001b[38;5;124m'\u001b[39m\u001b[38;5;124mLongitude\u001b[39m\u001b[38;5;124m'\u001b[39m, \u001b[38;5;124m'\u001b[39m\u001b[38;5;124mSchedule\u001b[39m\u001b[38;5;124m'\u001b[39m, \u001b[38;5;124m'\u001b[39m\u001b[38;5;124mAir_Carrier\u001b[39m\u001b[38;5;124m'\u001b[39m, \u001b[38;5;124m'\u001b[39m\u001b[38;5;124mAircraft_Category\u001b[39m\u001b[38;5;124m'\u001b[39m, \u001b[38;5;124m'\u001b[39m\u001b[38;5;124mFar_Description\u001b[39m\u001b[38;5;124m'\u001b[39m], inplace\u001b[38;5;241m=\u001b[39m\u001b[38;5;28;01mTrue\u001b[39;00m)\n",
      "File \u001b[0;32m~/anaconda3/lib/python3.11/site-packages/pandas/core/frame.py:5344\u001b[0m, in \u001b[0;36mDataFrame.drop\u001b[0;34m(self, labels, axis, index, columns, level, inplace, errors)\u001b[0m\n\u001b[1;32m   5196\u001b[0m \u001b[38;5;28;01mdef\u001b[39;00m \u001b[38;5;21mdrop\u001b[39m(\n\u001b[1;32m   5197\u001b[0m     \u001b[38;5;28mself\u001b[39m,\n\u001b[1;32m   5198\u001b[0m     labels: IndexLabel \u001b[38;5;241m|\u001b[39m \u001b[38;5;28;01mNone\u001b[39;00m \u001b[38;5;241m=\u001b[39m \u001b[38;5;28;01mNone\u001b[39;00m,\n\u001b[0;32m   (...)\u001b[0m\n\u001b[1;32m   5205\u001b[0m     errors: IgnoreRaise \u001b[38;5;241m=\u001b[39m \u001b[38;5;124m\"\u001b[39m\u001b[38;5;124mraise\u001b[39m\u001b[38;5;124m\"\u001b[39m,\n\u001b[1;32m   5206\u001b[0m ) \u001b[38;5;241m-\u001b[39m\u001b[38;5;241m>\u001b[39m DataFrame \u001b[38;5;241m|\u001b[39m \u001b[38;5;28;01mNone\u001b[39;00m:\n\u001b[1;32m   5207\u001b[0m \u001b[38;5;250m    \u001b[39m\u001b[38;5;124;03m\"\"\"\u001b[39;00m\n\u001b[1;32m   5208\u001b[0m \u001b[38;5;124;03m    Drop specified labels from rows or columns.\u001b[39;00m\n\u001b[1;32m   5209\u001b[0m \n\u001b[0;32m   (...)\u001b[0m\n\u001b[1;32m   5342\u001b[0m \u001b[38;5;124;03m            weight  1.0     0.8\u001b[39;00m\n\u001b[1;32m   5343\u001b[0m \u001b[38;5;124;03m    \"\"\"\u001b[39;00m\n\u001b[0;32m-> 5344\u001b[0m     \u001b[38;5;28;01mreturn\u001b[39;00m \u001b[38;5;28msuper\u001b[39m()\u001b[38;5;241m.\u001b[39mdrop(\n\u001b[1;32m   5345\u001b[0m         labels\u001b[38;5;241m=\u001b[39mlabels,\n\u001b[1;32m   5346\u001b[0m         axis\u001b[38;5;241m=\u001b[39maxis,\n\u001b[1;32m   5347\u001b[0m         index\u001b[38;5;241m=\u001b[39mindex,\n\u001b[1;32m   5348\u001b[0m         columns\u001b[38;5;241m=\u001b[39mcolumns,\n\u001b[1;32m   5349\u001b[0m         level\u001b[38;5;241m=\u001b[39mlevel,\n\u001b[1;32m   5350\u001b[0m         inplace\u001b[38;5;241m=\u001b[39minplace,\n\u001b[1;32m   5351\u001b[0m         errors\u001b[38;5;241m=\u001b[39merrors,\n\u001b[1;32m   5352\u001b[0m     )\n",
      "File \u001b[0;32m~/anaconda3/lib/python3.11/site-packages/pandas/core/generic.py:4711\u001b[0m, in \u001b[0;36mNDFrame.drop\u001b[0;34m(self, labels, axis, index, columns, level, inplace, errors)\u001b[0m\n\u001b[1;32m   4709\u001b[0m \u001b[38;5;28;01mfor\u001b[39;00m axis, labels \u001b[38;5;129;01min\u001b[39;00m axes\u001b[38;5;241m.\u001b[39mitems():\n\u001b[1;32m   4710\u001b[0m     \u001b[38;5;28;01mif\u001b[39;00m labels \u001b[38;5;129;01mis\u001b[39;00m \u001b[38;5;129;01mnot\u001b[39;00m \u001b[38;5;28;01mNone\u001b[39;00m:\n\u001b[0;32m-> 4711\u001b[0m         obj \u001b[38;5;241m=\u001b[39m obj\u001b[38;5;241m.\u001b[39m_drop_axis(labels, axis, level\u001b[38;5;241m=\u001b[39mlevel, errors\u001b[38;5;241m=\u001b[39merrors)\n\u001b[1;32m   4713\u001b[0m \u001b[38;5;28;01mif\u001b[39;00m inplace:\n\u001b[1;32m   4714\u001b[0m     \u001b[38;5;28mself\u001b[39m\u001b[38;5;241m.\u001b[39m_update_inplace(obj)\n",
      "File \u001b[0;32m~/anaconda3/lib/python3.11/site-packages/pandas/core/generic.py:4753\u001b[0m, in \u001b[0;36mNDFrame._drop_axis\u001b[0;34m(self, labels, axis, level, errors, only_slice)\u001b[0m\n\u001b[1;32m   4751\u001b[0m         new_axis \u001b[38;5;241m=\u001b[39m axis\u001b[38;5;241m.\u001b[39mdrop(labels, level\u001b[38;5;241m=\u001b[39mlevel, errors\u001b[38;5;241m=\u001b[39merrors)\n\u001b[1;32m   4752\u001b[0m     \u001b[38;5;28;01melse\u001b[39;00m:\n\u001b[0;32m-> 4753\u001b[0m         new_axis \u001b[38;5;241m=\u001b[39m axis\u001b[38;5;241m.\u001b[39mdrop(labels, errors\u001b[38;5;241m=\u001b[39merrors)\n\u001b[1;32m   4754\u001b[0m     indexer \u001b[38;5;241m=\u001b[39m axis\u001b[38;5;241m.\u001b[39mget_indexer(new_axis)\n\u001b[1;32m   4756\u001b[0m \u001b[38;5;66;03m# Case for non-unique axis\u001b[39;00m\n\u001b[1;32m   4757\u001b[0m \u001b[38;5;28;01melse\u001b[39;00m:\n",
      "File \u001b[0;32m~/anaconda3/lib/python3.11/site-packages/pandas/core/indexes/base.py:7000\u001b[0m, in \u001b[0;36mIndex.drop\u001b[0;34m(self, labels, errors)\u001b[0m\n\u001b[1;32m   6998\u001b[0m \u001b[38;5;28;01mif\u001b[39;00m mask\u001b[38;5;241m.\u001b[39many():\n\u001b[1;32m   6999\u001b[0m     \u001b[38;5;28;01mif\u001b[39;00m errors \u001b[38;5;241m!=\u001b[39m \u001b[38;5;124m\"\u001b[39m\u001b[38;5;124mignore\u001b[39m\u001b[38;5;124m\"\u001b[39m:\n\u001b[0;32m-> 7000\u001b[0m         \u001b[38;5;28;01mraise\u001b[39;00m \u001b[38;5;167;01mKeyError\u001b[39;00m(\u001b[38;5;124mf\u001b[39m\u001b[38;5;124m\"\u001b[39m\u001b[38;5;132;01m{\u001b[39;00mlabels[mask]\u001b[38;5;241m.\u001b[39mtolist()\u001b[38;5;132;01m}\u001b[39;00m\u001b[38;5;124m not found in axis\u001b[39m\u001b[38;5;124m\"\u001b[39m)\n\u001b[1;32m   7001\u001b[0m     indexer \u001b[38;5;241m=\u001b[39m indexer[\u001b[38;5;241m~\u001b[39mmask]\n\u001b[1;32m   7002\u001b[0m \u001b[38;5;28;01mreturn\u001b[39;00m \u001b[38;5;28mself\u001b[39m\u001b[38;5;241m.\u001b[39mdelete(indexer)\n",
      "\u001b[0;31mKeyError\u001b[0m: \"['Air_Carrier', 'Aircraft_Category', 'Far_Description'] not found in axis\""
     ]
    }
   ],
   "source": [
    "aviation_clean.drop(columns=['Latitude', 'Longitude', 'Schedule', 'Air_Carrier', 'Aircraft_Category', 'Far_Description'], inplace=True)"
   ]
  },
  {
   "cell_type": "code",
   "execution_count": null,
   "id": "249369a0-a81f-4879-b646-b3162768577d",
   "metadata": {},
   "outputs": [],
   "source": [
    "# Create a column with Total Number of Passengers\n",
    "aviation_clean['Total_Passengers'] = aviation_clean['Total_Fatal_Injuries'] + aviation_clean['Total_Serious_Injuries'] \\\n",
    "    + aviation_clean['Total_Minor_Injuries'] + aviation_clean['Total_Uninjured']\n",
    "\n",
    "# Create column with proportion of fatal injuries per accident\n",
    "aviation_clean['Fatal_Injuries_Rate'] = aviation_clean['Total_Fatal_Injuries'] / aviation_clean['Total_Passengers']\n",
    "\n",
    "# Create column with proportion of uninjured per accident\n",
    "aviation_clean['Uninjured_Rate'] = aviation_clean['Total_Uninjured'] / aviation_clean['Total_Passengers']"
   ]
  },
  {
   "cell_type": "code",
   "execution_count": null,
   "id": "33d8ae3a-f522-4ca6-8e01-0de235b30579",
   "metadata": {},
   "outputs": [],
   "source": [
    "# NaNs are caused by diving by 0\n",
    "aviation_clean[aviation_clean['Fatal_Injuries_Rate'].isna()].sample(20)"
   ]
  },
  {
   "cell_type": "code",
   "execution_count": null,
   "id": "fcd55538-5b96-430f-bfb5-68444a0fe756",
   "metadata": {},
   "outputs": [],
   "source": [
    "# Clean NaNs from Total Fatal Injuries and Total Uninjured\n",
    "# I will remove all of the NaNs because without injury and fatality reports, I will not be able to determine safey\n",
    "aviation_clean.dropna(subset=['Total_Fatal_Injuries', 'Total_Serious_Injuries', 'Total_Minor_Injuries', 'Total_Uninjured', \\\n",
    "                              'Fatal_Injuries_Rate', 'Uninjured_Rate'], inplace=True)"
   ]
  },
  {
   "cell_type": "markdown",
   "id": "11c39603-2525-44e6-b766-bb0e1145bac3",
   "metadata": {},
   "source": [
    "I subset my data into 3 different dataframes in order to answer our 3 business questions: \n",
    "1. **us_flights**: This is a subset of domestic flights, which makes up 93% of the data. I drop na's and split Location into City and State.\n",
    "3. **top_4_models**: This is a subset of the 4 most common manufacturers according to [Forbes](https://www.forbes.com/sites/geoffwhitmore/2019/08/16/what-is-the-safest-airplane-to-fly/?sh=1fee35415c72). I standardize the names of the 4 manufacturers.\n",
    "4. **engine_data**: This is a subset of all the non-null rows of engine number."
   ]
  },
  {
   "cell_type": "code",
   "execution_count": null,
   "id": "e5030da4-a329-4bbf-b0f6-22e312113ccb",
   "metadata": {},
   "outputs": [],
   "source": [
    "# Narrow the data down to the United States\n",
    "us_flights = aviation_clean[aviation_clean['Country']=='United States']\n",
    "us_flights.info()"
   ]
  },
  {
   "cell_type": "code",
   "execution_count": null,
   "id": "47de2586-8d52-4b6c-aaa2-0c7a0e4cc0dd",
   "metadata": {},
   "outputs": [],
   "source": [
    "# Find out what some missing values in the Location column are\n",
    "us_flights.loc[us_flights['Location'].isna()]"
   ]
  },
  {
   "cell_type": "code",
   "execution_count": null,
   "id": "db2c26ae-18c6-46ff-8d72-04e9602c4f17",
   "metadata": {},
   "outputs": [],
   "source": [
    "# I removed the remaining NaNs, as there are only 4 out of approximately 82,000.\n",
    "us_flights['Location'].dropna(inplace=True)"
   ]
  },
  {
   "cell_type": "code",
   "execution_count": null,
   "id": "0e064a68-0f7f-43d4-89f1-df6345d6e82e",
   "metadata": {},
   "outputs": [],
   "source": [
    "# Create 2 new columns, 'City' and 'State' and drop 'Location'\n",
    "us_flights['City'] = us_flights['Location'].map(lambda x: str(x).title()[:-4])\n",
    "us_flights['State'] = us_flights['Location'].map(lambda x: str(x)[-2:])\n",
    "us_flights.drop(columns=['Location'])"
   ]
  },
  {
   "cell_type": "code",
   "execution_count": null,
   "id": "f262b806-17db-477a-b4fb-c5a0671c9210",
   "metadata": {},
   "outputs": [],
   "source": [
    "# Create new dataframe with top 4 models. I chose the most common manufacturers according to Forbes.\n",
    "top_4_makes = us_flights[us_flights['Make'].str.contains('|'.join(['Boeing', 'Airbus', 'Bombardier', 'Embraer']))]\n",
    "top_4_makes.head()"
   ]
  },
  {
   "cell_type": "code",
   "execution_count": null,
   "id": "6cc50e5a-e819-467a-84c8-785e29651b1a",
   "metadata": {},
   "outputs": [],
   "source": [
    "top_4_makes['Make'].value_counts()"
   ]
  },
  {
   "cell_type": "code",
   "execution_count": null,
   "id": "fd011e6e-4d28-44a4-baa7-a0b8597cad8a",
   "metadata": {},
   "outputs": [],
   "source": [
    "# Create a function to standardize the aircraft names\n",
    "\n",
    "def standardize_aircraft_name(name):\n",
    "    if 'Boeing' in name:\n",
    "        new_name = name.replace(name, 'Boeing')\n",
    "    elif 'Airbus' in name:\n",
    "        new_name = name.replace(name, 'Airbus')\n",
    "    elif 'Embraer' in name:\n",
    "        new_name = name.replace(name, 'Embraer')\n",
    "    elif 'Bombardier' in name:\n",
    "        new_name = name.replace(name, 'Bombardier')\n",
    "    else:\n",
    "        new_name = name\n",
    "    return new_name"
   ]
  },
  {
   "cell_type": "code",
   "execution_count": null,
   "id": "7e66a532-180b-4a55-a81c-96f43d94bcc2",
   "metadata": {},
   "outputs": [],
   "source": [
    "# I noticed there were variations of Make names, so I wanted to standardize the names\n",
    "top_4_makes['Make'] = top_4_makes['Make'].map(lambda x: standardize_aircraft_name(x))"
   ]
  },
  {
   "cell_type": "code",
   "execution_count": null,
   "id": "99e203ed-8e28-44b8-b426-c1c8c985539a",
   "metadata": {},
   "outputs": [],
   "source": [
    "top_4_makes['Make'].value_counts()"
   ]
  },
  {
   "cell_type": "code",
   "execution_count": null,
   "id": "49be68e0-5e24-4407-ad03-6873c32a7599",
   "metadata": {},
   "outputs": [],
   "source": [
    "top_4_makes.info()"
   ]
  },
  {
   "cell_type": "code",
   "execution_count": null,
   "id": "dcff9a06-4382-4075-a4f0-b0c7639d98dd",
   "metadata": {},
   "outputs": [],
   "source": [
    "# Clean missing values in 'Number of Engines' \n",
    "\n",
    "engine_data = aviation_clean[aviation_clean['Number_Of_Engines'].notnull()]"
   ]
  },
  {
   "cell_type": "code",
   "execution_count": null,
   "id": "1ad74fdb-138e-44aa-b661-7659de18f627",
   "metadata": {},
   "outputs": [],
   "source": [
    "# Export the clean data frame using df.to_csv() and upload to tableau to produce visuals\n",
    "\n",
    "top_4_makes.to_csv('top_4_makes.csv')\n",
    "\n",
    "# engine_data will be uploaded separately as it is a much smaller dataset. I want to keep more values to answer the other 2 business questions.\n",
    "engine_data.to_csv('engine_data.csv');"
   ]
  },
  {
   "cell_type": "markdown",
   "id": "1bb07613-bccb-47ea-89ed-b2be72ffff20",
   "metadata": {},
   "source": [
    "# Exploratory Data Analysis"
   ]
  },
  {
   "cell_type": "code",
   "execution_count": null,
   "id": "7b9e35fa-73ee-443b-ae1e-df4912175161",
   "metadata": {},
   "outputs": [],
   "source": [
    "sns.set(style='whitegrid', context='notebook')"
   ]
  },
  {
   "cell_type": "markdown",
   "id": "769028e8-eb59-4293-a563-747e73372771",
   "metadata": {},
   "source": [
    "## Make Analysis"
   ]
  },
  {
   "cell_type": "markdown",
   "id": "458f7b04-fb61-4766-9243-b3b9bd86d2d6",
   "metadata": {},
   "source": [
    "I began with comparing the top 4 aircraft makes with the **average number of injuries** per accident. Bombardier has the *least* average number ofi njuries, while the average total fatal injuries is greater than Airbus, but comparable to Boeing and Embraer. Boeing has the *highest* average number of minor, serious, and fatal injuries."
   ]
  },
  {
   "cell_type": "code",
   "execution_count": null,
   "id": "7ab0f2f5-7197-46c1-833a-5ea39c9542a6",
   "metadata": {},
   "outputs": [],
   "source": [
    "# TO DO: ADD VALUES OF EACH BAR SECTION\n",
    "ax = top_4_makes.groupby(['Make'])[['Total_Fatal_Injuries', 'Total_Minor_Injuries', 'Total_Serious_Injuries']]\\\n",
    "    .mean().sort_values(by='Total_Fatal_Injuries', ascending=True).head().plot(kind='bar', stacked=True)\n",
    "ax.set_title('Average Total Injuries By Make')\n",
    "ax.set_xlabel('Aircraft Make')\n",
    "ax.set_ylabel('Average Number of Injuries');"
   ]
  },
  {
   "cell_type": "markdown",
   "id": "eac152e2-c963-44ca-b556-10a5fe82f1f1",
   "metadata": {},
   "source": [
    "Next, I analyzed the **fatality rates** by make. Boeing and Bombardier hold the *lowest* fatality rates out of the top for manufacturers, while Embraer has the *highest* fatality rate among the four."
   ]
  },
  {
   "cell_type": "code",
   "execution_count": null,
   "id": "0a726019-611d-4957-b79a-469153a5b4d9",
   "metadata": {},
   "outputs": [],
   "source": [
    "ax = sns.barplot(data=top_4_makes, x='Make', y='Fatal_Injuries_Rate')\n",
    "ax.bar_label(ax.containers[0], fontsize=10);\n",
    "ax.set(xlabel='Make', ylabel='Fatalality Rate', title='Fatality Rate By Make');"
   ]
  },
  {
   "cell_type": "markdown",
   "id": "f5ea2135-eb6f-470d-aa09-194eed15ab77",
   "metadata": {},
   "source": [
    "Lastly, I analyzed the **uninjured rate** by make. Bombardier came out on *top*, with a 93% uninjured rate. The remaining three manufacturers are quite comparable, ranging from 86% to 88%."
   ]
  },
  {
   "cell_type": "code",
   "execution_count": null,
   "id": "bb23078e-b522-44db-8640-c02e3203211c",
   "metadata": {},
   "outputs": [],
   "source": [
    "ax = sns.barplot(data=top_4_makes, x='Make', y='Uninjured_Rate')\n",
    "ax.bar_label(ax.containers[0], fontsize=10);\n",
    "ax.set(xlabel='Make', ylabel='Uninjured Rate', title='Uninjured Rate By Make');"
   ]
  },
  {
   "cell_type": "code",
   "execution_count": null,
   "id": "337d44e1-4036-4e0c-85c8-fbb7f56fd98f",
   "metadata": {},
   "outputs": [],
   "source": [
    "## DELETE\n",
    "top_4_makes[top_4_makes['Make']=='Bombardier'].groupby(['Model'])[['Total_Uninjured']]\\\n",
    "    .mean().sort_values(by='Total_Uninjured', ascending=True).plot(kind='bar', stacked=True)"
   ]
  },
  {
   "cell_type": "code",
   "execution_count": null,
   "id": "c404a350-34ec-459c-8d35-daef89b71fd8",
   "metadata": {},
   "outputs": [],
   "source": [
    "# DELETE\n",
    "top_4_makes[top_4_makes['Make']=='Bombardier'].groupby(['Model'])[['Fatal_Injuries_Rate']]\\\n",
    "    .mean().sort_values(by='Fatal_Injuries_Rate', ascending=True).plot(kind='bar', stacked=True)"
   ]
  },
  {
   "cell_type": "code",
   "execution_count": null,
   "id": "859e5662-8d00-4b71-8cc8-72b28ede3b29",
   "metadata": {},
   "outputs": [],
   "source": [
    "# DELETE\n",
    "top_4_makes.groupby(['Model'])['Uninjured_Rate'].mean().sort_values(ascending=False).head().plot(kind='bar')"
   ]
  },
  {
   "cell_type": "markdown",
   "id": "ed541ea3-c5ae-4705-adf6-a2ccbf09480a",
   "metadata": {},
   "source": [
    "## Number of Engines Analysis"
   ]
  },
  {
   "cell_type": "markdown",
   "id": "972943bf-f290-45a1-bfc9-e7766a8ecdc0",
   "metadata": {},
   "source": [
    "Aircrafts with **3 engines** hold both the *highest* uninjured rate and the *lowest* fatality rate. Aircrafts with "
   ]
  },
  {
   "cell_type": "code",
   "execution_count": null,
   "id": "84dd117a-9243-4f3a-9397-8cc3fdfd541e",
   "metadata": {
    "scrolled": true
   },
   "outputs": [],
   "source": [
    "engine_data.groupby(['Number_Of_Engines'])[['Fatal_Injuries_Rate', 'Uninjured_Rate']]\\\n",
    "    .mean().sort_values(by='Uninjured_Rate', ascending=True).plot(kind='bar', stacked=False);"
   ]
  },
  {
   "cell_type": "code",
   "execution_count": null,
   "id": "83de10b8-502f-4b2e-8ee8-87cab6a927a5",
   "metadata": {},
   "outputs": [],
   "source": [
    "engine_data['Model'][engine_data['Number_Of_Engines']==8]"
   ]
  },
  {
   "cell_type": "code",
   "execution_count": null,
   "id": "14d4c35e-767c-4e22-a4be-258e4274f12d",
   "metadata": {},
   "outputs": [],
   "source": [
    "sns.scatterplot(data=engine_data, x='Uninjured_Rate', y='Number_Of_Engines')"
   ]
  },
  {
   "cell_type": "code",
   "execution_count": null,
   "id": "1d7b2607-3abb-4bd8-b518-48bde20dc001",
   "metadata": {},
   "outputs": [],
   "source": [
    "engine_data.plot(x='Fatal_Injuries_Rate', y='Number_Of_Engines', kind='scatter')"
   ]
  },
  {
   "cell_type": "code",
   "execution_count": null,
   "id": "cd8d20f8-f635-460f-a92c-45dd9be46e60",
   "metadata": {},
   "outputs": [],
   "source": [
    "# Bombardier aircrafts only come with 1 or 2 engines. 2 engines are safer than one, according to the data, so I recommend we purchase \n",
    "# an aircraft Bombardier aircraft with 2 engines.\n",
    "make_options = top_4_makes['Model'][(top_4_makes['Make']=='Bombardier') & (top_4_makes['Number_Of_Engines']==2)]\n",
    "make_options"
   ]
  },
  {
   "cell_type": "markdown",
   "id": "ebaef1d3-38f2-4289-886a-4359dde0c942",
   "metadata": {},
   "source": [
    "## Location Analysis"
   ]
  },
  {
   "cell_type": "code",
   "execution_count": null,
   "id": "7b97f311-7327-41fe-9a80-3a62ca1503c2",
   "metadata": {},
   "outputs": [],
   "source": [
    "# Geographical of Location vs. Total Fatal Injuries"
   ]
  },
  {
   "cell_type": "markdown",
   "id": "8226550e-5468-4061-b8bc-96fb2d5ab00e",
   "metadata": {},
   "source": [
    "# Conclusions"
   ]
  },
  {
   "cell_type": "markdown",
   "id": "e98f1386-35be-474c-b870-473db31eb27f",
   "metadata": {},
   "source": []
  },
  {
   "cell_type": "markdown",
   "id": "02d6cf9d-1e5e-46c1-9b71-aeaf42136420",
   "metadata": {},
   "source": [
    "## Limitations"
   ]
  },
  {
   "cell_type": "markdown",
   "id": "41abbad3-0b8a-4abc-9f65-9fe7653ab79d",
   "metadata": {},
   "source": [
    "There are various limitations in this analysis.\n",
    "\n",
    "1. I could not compute the **proportion of accidents to total number of flights**, as this data includes only records of accidents or incidents. This data does not include clean records of flights with no accidents or incidents. When recommending an aircraft company, aircraft model, or location of operation, I used the basis of which has the lowest number of accidents/incidents, with zero accidents/incidents not being an option.\n",
    "\n",
    "2. "
   ]
  },
  {
   "cell_type": "markdown",
   "id": "e53aa9cb-61e1-4508-ad34-c1b8a49539d5",
   "metadata": {},
   "source": [
    "## Recommendations"
   ]
  },
  {
   "cell_type": "markdown",
   "id": "3fd470d1-5967-46e0-b556-990d8e88e3dd",
   "metadata": {},
   "source": [
    "This analysis has led me to conclude that the following three recommendations are: \n",
    "1. **Bombardier** is the aircraft manufacturer that I suggest we purchase. Bombardier has overall the least average number of injuries and the highest unijured rate when compared to Airbus, Boeing and Embraer.\n",
    "\n",
    "2.  "
   ]
  },
  {
   "cell_type": "markdown",
   "id": "8c048448-1e6d-49e5-8c52-b32883100d0c",
   "metadata": {},
   "source": [
    "## Next Steps"
   ]
  },
  {
   "cell_type": "markdown",
   "id": "177f9903-cd61-488b-bb5f-22d8a39411c6",
   "metadata": {},
   "source": [
    "To further lower the risk of this new business venture, further analysis is required to consider:\n",
    "1. **Cost** of aircraft and operation of such aircraft.\n",
    "\n",
    "2. **Profit** based on location of operation.\n",
    "\n",
    "3. Interrupted flight due to **weather** when choosing location."
   ]
  },
  {
   "cell_type": "code",
   "execution_count": null,
   "id": "72ffd33b-be43-4e49-bf38-9776b39aea01",
   "metadata": {},
   "outputs": [],
   "source": []
  }
 ],
 "metadata": {
  "kernelspec": {
   "display_name": "Python 3 (ipykernel)",
   "language": "python",
   "name": "python3"
  },
  "language_info": {
   "codemirror_mode": {
    "name": "ipython",
    "version": 3
   },
   "file_extension": ".py",
   "mimetype": "text/x-python",
   "name": "python",
   "nbconvert_exporter": "python",
   "pygments_lexer": "ipython3",
   "version": "3.11.5"
  }
 },
 "nbformat": 4,
 "nbformat_minor": 5
}
